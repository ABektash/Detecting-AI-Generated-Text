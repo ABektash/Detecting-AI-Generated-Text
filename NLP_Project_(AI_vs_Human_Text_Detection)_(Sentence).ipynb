{
 "cells": [
  {
   "cell_type": "code",
   "execution_count": null,
   "id": "36cf7de0",
   "metadata": {},
   "outputs": [],
   "source": [
    "import re\n",
    "import os\n",
    "import joblib\n",
    "import kagglehub\n",
    "import numpy as np\n",
    "import pandas as pd\n",
    "import seaborn as sns\n",
    "from collections import Counter\n",
    "import matplotlib.pyplot as plt\n",
    "from datasets import load_dataset"
   ]
  },
  {
   "cell_type": "code",
   "execution_count": 2,
   "id": "915011e5",
   "metadata": {},
   "outputs": [
    {
     "name": "stdout",
     "output_type": "stream",
     "text": [
      "Path to dataset files: C:\\Users\\adham\\.cache\\kagglehub\\datasets\\cosmos98\\twitter-and-reddit-sentimental-analysis-dataset\\versions\\1\n",
      "Dataset path: C:\\Users\\adham\\.cache\\kagglehub\\datasets\\cosmos98\\twitter-and-reddit-sentimental-analysis-dataset\\versions\\1\\\n",
      "Dataset files: ['Reddit_Data.csv', 'Twitter_Data.csv']\n"
     ]
    }
   ],
   "source": [
    "path = kagglehub.dataset_download(\"cosmos98/twitter-and-reddit-sentimental-analysis-dataset\")\n",
    "print(\"Path to dataset files:\", path)\n",
    "\n",
    "dataset_path = os.path.join(path, \"\")\n",
    "print(\"Dataset path:\", dataset_path)\n",
    "\n",
    "dataset_files = os.listdir(path)\n",
    "print(\"Dataset files:\", dataset_files)\n",
    "\n",
    "reddit_df = pd.read_csv(os.path.join(dataset_path, \"Reddit_Data.csv\"))\n",
    "twitter_df = pd.read_csv(os.path.join(dataset_path, \"Twitter_Data.csv\"))"
   ]
  },
  {
   "cell_type": "code",
   "execution_count": 3,
   "id": "47c358d1",
   "metadata": {},
   "outputs": [
    {
     "name": "stdout",
     "output_type": "stream",
     "text": [
      "<class 'pandas.core.frame.DataFrame'>\n",
      "RangeIndex: 37249 entries, 0 to 37248\n",
      "Data columns (total 2 columns):\n",
      " #   Column         Non-Null Count  Dtype \n",
      "---  ------         --------------  ----- \n",
      " 0   clean_comment  37149 non-null  object\n",
      " 1   category       37249 non-null  int64 \n",
      "dtypes: int64(1), object(1)\n",
      "memory usage: 582.1+ KB\n"
     ]
    }
   ],
   "source": [
    "reddit_df.info()"
   ]
  },
  {
   "cell_type": "code",
   "execution_count": 4,
   "id": "73059c56",
   "metadata": {},
   "outputs": [
    {
     "name": "stdout",
     "output_type": "stream",
     "text": [
      "<class 'pandas.core.frame.DataFrame'>\n",
      "RangeIndex: 162980 entries, 0 to 162979\n",
      "Data columns (total 2 columns):\n",
      " #   Column      Non-Null Count   Dtype  \n",
      "---  ------      --------------   -----  \n",
      " 0   clean_text  162976 non-null  object \n",
      " 1   category    162973 non-null  float64\n",
      "dtypes: float64(1), object(1)\n",
      "memory usage: 2.5+ MB\n"
     ]
    }
   ],
   "source": [
    "twitter_df.info()"
   ]
  },
  {
   "cell_type": "code",
   "execution_count": 5,
   "id": "c60babeb",
   "metadata": {},
   "outputs": [
    {
     "data": {
      "text/html": [
       "<div>\n",
       "<style scoped>\n",
       "    .dataframe tbody tr th:only-of-type {\n",
       "        vertical-align: middle;\n",
       "    }\n",
       "\n",
       "    .dataframe tbody tr th {\n",
       "        vertical-align: top;\n",
       "    }\n",
       "\n",
       "    .dataframe thead th {\n",
       "        text-align: right;\n",
       "    }\n",
       "</style>\n",
       "<table border=\"1\" class=\"dataframe\">\n",
       "  <thead>\n",
       "    <tr style=\"text-align: right;\">\n",
       "      <th></th>\n",
       "      <th>clean_comment</th>\n",
       "      <th>category</th>\n",
       "    </tr>\n",
       "  </thead>\n",
       "  <tbody>\n",
       "    <tr>\n",
       "      <th>0</th>\n",
       "      <td>family mormon have never tried explain them t...</td>\n",
       "      <td>1</td>\n",
       "    </tr>\n",
       "    <tr>\n",
       "      <th>1</th>\n",
       "      <td>buddhism has very much lot compatible with chr...</td>\n",
       "      <td>1</td>\n",
       "    </tr>\n",
       "    <tr>\n",
       "      <th>2</th>\n",
       "      <td>seriously don say thing first all they won get...</td>\n",
       "      <td>-1</td>\n",
       "    </tr>\n",
       "    <tr>\n",
       "      <th>3</th>\n",
       "      <td>what you have learned yours and only yours wha...</td>\n",
       "      <td>0</td>\n",
       "    </tr>\n",
       "    <tr>\n",
       "      <th>4</th>\n",
       "      <td>for your own benefit you may want read living ...</td>\n",
       "      <td>1</td>\n",
       "    </tr>\n",
       "  </tbody>\n",
       "</table>\n",
       "</div>"
      ],
      "text/plain": [
       "                                       clean_comment  category\n",
       "0   family mormon have never tried explain them t...         1\n",
       "1  buddhism has very much lot compatible with chr...         1\n",
       "2  seriously don say thing first all they won get...        -1\n",
       "3  what you have learned yours and only yours wha...         0\n",
       "4  for your own benefit you may want read living ...         1"
      ]
     },
     "execution_count": 5,
     "metadata": {},
     "output_type": "execute_result"
    }
   ],
   "source": [
    "reddit_df.head()"
   ]
  },
  {
   "cell_type": "code",
   "execution_count": 6,
   "id": "35d3fea5",
   "metadata": {},
   "outputs": [
    {
     "data": {
      "text/html": [
       "<div>\n",
       "<style scoped>\n",
       "    .dataframe tbody tr th:only-of-type {\n",
       "        vertical-align: middle;\n",
       "    }\n",
       "\n",
       "    .dataframe tbody tr th {\n",
       "        vertical-align: top;\n",
       "    }\n",
       "\n",
       "    .dataframe thead th {\n",
       "        text-align: right;\n",
       "    }\n",
       "</style>\n",
       "<table border=\"1\" class=\"dataframe\">\n",
       "  <thead>\n",
       "    <tr style=\"text-align: right;\">\n",
       "      <th></th>\n",
       "      <th>clean_text</th>\n",
       "      <th>category</th>\n",
       "    </tr>\n",
       "  </thead>\n",
       "  <tbody>\n",
       "    <tr>\n",
       "      <th>0</th>\n",
       "      <td>when modi promised “minimum government maximum...</td>\n",
       "      <td>-1.0</td>\n",
       "    </tr>\n",
       "    <tr>\n",
       "      <th>1</th>\n",
       "      <td>talk all the nonsense and continue all the dra...</td>\n",
       "      <td>0.0</td>\n",
       "    </tr>\n",
       "    <tr>\n",
       "      <th>2</th>\n",
       "      <td>what did just say vote for modi  welcome bjp t...</td>\n",
       "      <td>1.0</td>\n",
       "    </tr>\n",
       "    <tr>\n",
       "      <th>3</th>\n",
       "      <td>asking his supporters prefix chowkidar their n...</td>\n",
       "      <td>1.0</td>\n",
       "    </tr>\n",
       "    <tr>\n",
       "      <th>4</th>\n",
       "      <td>answer who among these the most powerful world...</td>\n",
       "      <td>1.0</td>\n",
       "    </tr>\n",
       "  </tbody>\n",
       "</table>\n",
       "</div>"
      ],
      "text/plain": [
       "                                          clean_text  category\n",
       "0  when modi promised “minimum government maximum...      -1.0\n",
       "1  talk all the nonsense and continue all the dra...       0.0\n",
       "2  what did just say vote for modi  welcome bjp t...       1.0\n",
       "3  asking his supporters prefix chowkidar their n...       1.0\n",
       "4  answer who among these the most powerful world...       1.0"
      ]
     },
     "execution_count": 6,
     "metadata": {},
     "output_type": "execute_result"
    }
   ],
   "source": [
    "twitter_df.head()"
   ]
  },
  {
   "cell_type": "code",
   "execution_count": 7,
   "id": "84b827a0",
   "metadata": {},
   "outputs": [],
   "source": [
    "twitter_df = twitter_df.rename(columns={\"clean_text\": \"text\"})\n",
    "reddit_df = reddit_df.rename(columns={\"clean_comment\": \"text\"})\n",
    "\n",
    "twitter_df.drop(columns=[\"category\"], inplace=True)\n",
    "reddit_df.drop(columns=[\"category\"], inplace=True)"
   ]
  },
  {
   "cell_type": "code",
   "execution_count": 8,
   "id": "04f2ce85",
   "metadata": {},
   "outputs": [
    {
     "data": {
      "text/html": [
       "<div>\n",
       "<style scoped>\n",
       "    .dataframe tbody tr th:only-of-type {\n",
       "        vertical-align: middle;\n",
       "    }\n",
       "\n",
       "    .dataframe tbody tr th {\n",
       "        vertical-align: top;\n",
       "    }\n",
       "\n",
       "    .dataframe thead th {\n",
       "        text-align: right;\n",
       "    }\n",
       "</style>\n",
       "<table border=\"1\" class=\"dataframe\">\n",
       "  <thead>\n",
       "    <tr style=\"text-align: right;\">\n",
       "      <th></th>\n",
       "      <th>text</th>\n",
       "    </tr>\n",
       "  </thead>\n",
       "  <tbody>\n",
       "    <tr>\n",
       "      <th>0</th>\n",
       "      <td>family mormon have never tried explain them t...</td>\n",
       "    </tr>\n",
       "    <tr>\n",
       "      <th>1</th>\n",
       "      <td>buddhism has very much lot compatible with chr...</td>\n",
       "    </tr>\n",
       "    <tr>\n",
       "      <th>2</th>\n",
       "      <td>seriously don say thing first all they won get...</td>\n",
       "    </tr>\n",
       "    <tr>\n",
       "      <th>3</th>\n",
       "      <td>what you have learned yours and only yours wha...</td>\n",
       "    </tr>\n",
       "    <tr>\n",
       "      <th>4</th>\n",
       "      <td>for your own benefit you may want read living ...</td>\n",
       "    </tr>\n",
       "  </tbody>\n",
       "</table>\n",
       "</div>"
      ],
      "text/plain": [
       "                                                text\n",
       "0   family mormon have never tried explain them t...\n",
       "1  buddhism has very much lot compatible with chr...\n",
       "2  seriously don say thing first all they won get...\n",
       "3  what you have learned yours and only yours wha...\n",
       "4  for your own benefit you may want read living ..."
      ]
     },
     "execution_count": 8,
     "metadata": {},
     "output_type": "execute_result"
    }
   ],
   "source": [
    "reddit_df.head()"
   ]
  },
  {
   "cell_type": "code",
   "execution_count": 9,
   "id": "570416cd",
   "metadata": {},
   "outputs": [
    {
     "data": {
      "text/html": [
       "<div>\n",
       "<style scoped>\n",
       "    .dataframe tbody tr th:only-of-type {\n",
       "        vertical-align: middle;\n",
       "    }\n",
       "\n",
       "    .dataframe tbody tr th {\n",
       "        vertical-align: top;\n",
       "    }\n",
       "\n",
       "    .dataframe thead th {\n",
       "        text-align: right;\n",
       "    }\n",
       "</style>\n",
       "<table border=\"1\" class=\"dataframe\">\n",
       "  <thead>\n",
       "    <tr style=\"text-align: right;\">\n",
       "      <th></th>\n",
       "      <th>text</th>\n",
       "    </tr>\n",
       "  </thead>\n",
       "  <tbody>\n",
       "    <tr>\n",
       "      <th>0</th>\n",
       "      <td>when modi promised “minimum government maximum...</td>\n",
       "    </tr>\n",
       "    <tr>\n",
       "      <th>1</th>\n",
       "      <td>talk all the nonsense and continue all the dra...</td>\n",
       "    </tr>\n",
       "    <tr>\n",
       "      <th>2</th>\n",
       "      <td>what did just say vote for modi  welcome bjp t...</td>\n",
       "    </tr>\n",
       "    <tr>\n",
       "      <th>3</th>\n",
       "      <td>asking his supporters prefix chowkidar their n...</td>\n",
       "    </tr>\n",
       "    <tr>\n",
       "      <th>4</th>\n",
       "      <td>answer who among these the most powerful world...</td>\n",
       "    </tr>\n",
       "  </tbody>\n",
       "</table>\n",
       "</div>"
      ],
      "text/plain": [
       "                                                text\n",
       "0  when modi promised “minimum government maximum...\n",
       "1  talk all the nonsense and continue all the dra...\n",
       "2  what did just say vote for modi  welcome bjp t...\n",
       "3  asking his supporters prefix chowkidar their n...\n",
       "4  answer who among these the most powerful world..."
      ]
     },
     "execution_count": 9,
     "metadata": {},
     "output_type": "execute_result"
    }
   ],
   "source": [
    "twitter_df.head()"
   ]
  },
  {
   "cell_type": "code",
   "execution_count": 10,
   "id": "cfb3025e",
   "metadata": {},
   "outputs": [
    {
     "data": {
      "text/html": [
       "<div>\n",
       "<style scoped>\n",
       "    .dataframe tbody tr th:only-of-type {\n",
       "        vertical-align: middle;\n",
       "    }\n",
       "\n",
       "    .dataframe tbody tr th {\n",
       "        vertical-align: top;\n",
       "    }\n",
       "\n",
       "    .dataframe thead th {\n",
       "        text-align: right;\n",
       "    }\n",
       "</style>\n",
       "<table border=\"1\" class=\"dataframe\">\n",
       "  <thead>\n",
       "    <tr style=\"text-align: right;\">\n",
       "      <th></th>\n",
       "      <th>text</th>\n",
       "    </tr>\n",
       "  </thead>\n",
       "  <tbody>\n",
       "    <tr>\n",
       "      <th>0</th>\n",
       "      <td>when modi promised “minimum government maximum...</td>\n",
       "    </tr>\n",
       "    <tr>\n",
       "      <th>1</th>\n",
       "      <td>talk all the nonsense and continue all the dra...</td>\n",
       "    </tr>\n",
       "    <tr>\n",
       "      <th>2</th>\n",
       "      <td>what did just say vote for modi  welcome bjp t...</td>\n",
       "    </tr>\n",
       "    <tr>\n",
       "      <th>3</th>\n",
       "      <td>asking his supporters prefix chowkidar their n...</td>\n",
       "    </tr>\n",
       "    <tr>\n",
       "      <th>4</th>\n",
       "      <td>answer who among these the most powerful world...</td>\n",
       "    </tr>\n",
       "  </tbody>\n",
       "</table>\n",
       "</div>"
      ],
      "text/plain": [
       "                                                text\n",
       "0  when modi promised “minimum government maximum...\n",
       "1  talk all the nonsense and continue all the dra...\n",
       "2  what did just say vote for modi  welcome bjp t...\n",
       "3  asking his supporters prefix chowkidar their n...\n",
       "4  answer who among these the most powerful world..."
      ]
     },
     "execution_count": 10,
     "metadata": {},
     "output_type": "execute_result"
    }
   ],
   "source": [
    "df1 = pd.concat([twitter_df, reddit_df], ignore_index=True)\n",
    "df1.head()"
   ]
  },
  {
   "cell_type": "code",
   "execution_count": 11,
   "id": "7247e046",
   "metadata": {},
   "outputs": [
    {
     "name": "stdout",
     "output_type": "stream",
     "text": [
      "<class 'pandas.core.frame.DataFrame'>\n",
      "RangeIndex: 200229 entries, 0 to 200228\n",
      "Data columns (total 1 columns):\n",
      " #   Column  Non-Null Count   Dtype \n",
      "---  ------  --------------   ----- \n",
      " 0   text    200125 non-null  object\n",
      "dtypes: object(1)\n",
      "memory usage: 1.5+ MB\n"
     ]
    }
   ],
   "source": [
    "df1.info()"
   ]
  },
  {
   "cell_type": "code",
   "execution_count": 12,
   "id": "1739b272",
   "metadata": {},
   "outputs": [],
   "source": [
    "df1['source'] = 0"
   ]
  },
  {
   "cell_type": "code",
   "execution_count": 13,
   "id": "c31a7ca0",
   "metadata": {},
   "outputs": [
    {
     "name": "stdout",
     "output_type": "stream",
     "text": [
      "<class 'pandas.core.frame.DataFrame'>\n",
      "RangeIndex: 200229 entries, 0 to 200228\n",
      "Data columns (total 2 columns):\n",
      " #   Column  Non-Null Count   Dtype \n",
      "---  ------  --------------   ----- \n",
      " 0   text    200125 non-null  object\n",
      " 1   source  200229 non-null  int64 \n",
      "dtypes: int64(1), object(1)\n",
      "memory usage: 3.1+ MB\n"
     ]
    }
   ],
   "source": [
    "df1.info()"
   ]
  },
  {
   "cell_type": "code",
   "execution_count": 14,
   "id": "d8ee44ab",
   "metadata": {},
   "outputs": [
    {
     "data": {
      "text/plain": [
       "np.int64(513)"
      ]
     },
     "execution_count": 14,
     "metadata": {},
     "output_type": "execute_result"
    }
   ],
   "source": [
    "df1.duplicated().sum()"
   ]
  },
  {
   "cell_type": "code",
   "execution_count": 15,
   "id": "52bf0e93",
   "metadata": {},
   "outputs": [],
   "source": [
    "df1 = df1.drop_duplicates()"
   ]
  },
  {
   "cell_type": "code",
   "execution_count": 16,
   "id": "4862c8a7",
   "metadata": {},
   "outputs": [
    {
     "data": {
      "text/plain": [
       "np.int64(0)"
      ]
     },
     "execution_count": 16,
     "metadata": {},
     "output_type": "execute_result"
    }
   ],
   "source": [
    "df1.duplicated().sum()"
   ]
  },
  {
   "cell_type": "code",
   "execution_count": 17,
   "id": "75df612d",
   "metadata": {},
   "outputs": [],
   "source": [
    "df1 = df1.dropna()"
   ]
  },
  {
   "cell_type": "code",
   "execution_count": 18,
   "id": "96c1704d",
   "metadata": {},
   "outputs": [
    {
     "name": "stdout",
     "output_type": "stream",
     "text": [
      "<class 'pandas.core.frame.DataFrame'>\n",
      "Index: 199715 entries, 0 to 200228\n",
      "Data columns (total 2 columns):\n",
      " #   Column  Non-Null Count   Dtype \n",
      "---  ------  --------------   ----- \n",
      " 0   text    199715 non-null  object\n",
      " 1   source  199715 non-null  int64 \n",
      "dtypes: int64(1), object(1)\n",
      "memory usage: 4.6+ MB\n"
     ]
    }
   ],
   "source": [
    "df1.info()"
   ]
  },
  {
   "cell_type": "code",
   "execution_count": 19,
   "id": "53fadbae",
   "metadata": {},
   "outputs": [
    {
     "data": {
      "text/plain": [
       "(199715, 2)"
      ]
     },
     "execution_count": 19,
     "metadata": {},
     "output_type": "execute_result"
    }
   ],
   "source": [
    "df1.shape"
   ]
  },
  {
   "cell_type": "code",
   "execution_count": 20,
   "id": "bff308a2",
   "metadata": {},
   "outputs": [],
   "source": [
    "hf_dataset = load_dataset(\"artem9k/ai-text-detection-pile\", split=\"train\")\n",
    "df2 = hf_dataset.to_pandas()"
   ]
  },
  {
   "cell_type": "code",
   "execution_count": 21,
   "id": "3562bae4",
   "metadata": {},
   "outputs": [
    {
     "data": {
      "text/html": [
       "<div>\n",
       "<style scoped>\n",
       "    .dataframe tbody tr th:only-of-type {\n",
       "        vertical-align: middle;\n",
       "    }\n",
       "\n",
       "    .dataframe tbody tr th {\n",
       "        vertical-align: top;\n",
       "    }\n",
       "\n",
       "    .dataframe thead th {\n",
       "        text-align: right;\n",
       "    }\n",
       "</style>\n",
       "<table border=\"1\" class=\"dataframe\">\n",
       "  <thead>\n",
       "    <tr style=\"text-align: right;\">\n",
       "      <th></th>\n",
       "      <th>source</th>\n",
       "      <th>id</th>\n",
       "      <th>text</th>\n",
       "    </tr>\n",
       "  </thead>\n",
       "  <tbody>\n",
       "    <tr>\n",
       "      <th>0</th>\n",
       "      <td>human</td>\n",
       "      <td>0</td>\n",
       "      <td>12 Years a Slave: An Analysis of the Film Essa...</td>\n",
       "    </tr>\n",
       "    <tr>\n",
       "      <th>1</th>\n",
       "      <td>human</td>\n",
       "      <td>1</td>\n",
       "      <td>20+ Social Media Post Ideas to Radically Simpl...</td>\n",
       "    </tr>\n",
       "    <tr>\n",
       "      <th>2</th>\n",
       "      <td>human</td>\n",
       "      <td>2</td>\n",
       "      <td>2022 Russian Invasion of Ukraine in Global Med...</td>\n",
       "    </tr>\n",
       "    <tr>\n",
       "      <th>3</th>\n",
       "      <td>human</td>\n",
       "      <td>3</td>\n",
       "      <td>533 U.S. 27 (2001) Kyllo v. United States: The...</td>\n",
       "    </tr>\n",
       "    <tr>\n",
       "      <th>4</th>\n",
       "      <td>human</td>\n",
       "      <td>4</td>\n",
       "      <td>A Charles Schwab Corporation Case Essay\\n\\nCha...</td>\n",
       "    </tr>\n",
       "  </tbody>\n",
       "</table>\n",
       "</div>"
      ],
      "text/plain": [
       "  source  id                                               text\n",
       "0  human   0  12 Years a Slave: An Analysis of the Film Essa...\n",
       "1  human   1  20+ Social Media Post Ideas to Radically Simpl...\n",
       "2  human   2  2022 Russian Invasion of Ukraine in Global Med...\n",
       "3  human   3  533 U.S. 27 (2001) Kyllo v. United States: The...\n",
       "4  human   4  A Charles Schwab Corporation Case Essay\\n\\nCha..."
      ]
     },
     "execution_count": 21,
     "metadata": {},
     "output_type": "execute_result"
    }
   ],
   "source": [
    "df2.head()"
   ]
  },
  {
   "cell_type": "code",
   "execution_count": 22,
   "id": "2acfb731",
   "metadata": {},
   "outputs": [
    {
     "name": "stdout",
     "output_type": "stream",
     "text": [
      "<class 'pandas.core.frame.DataFrame'>\n",
      "RangeIndex: 1392522 entries, 0 to 1392521\n",
      "Data columns (total 3 columns):\n",
      " #   Column  Non-Null Count    Dtype \n",
      "---  ------  --------------    ----- \n",
      " 0   source  1392522 non-null  object\n",
      " 1   id      1392522 non-null  int64 \n",
      " 2   text    1392522 non-null  object\n",
      "dtypes: int64(1), object(2)\n",
      "memory usage: 31.9+ MB\n"
     ]
    }
   ],
   "source": [
    "df2.info()"
   ]
  },
  {
   "cell_type": "code",
   "execution_count": 23,
   "id": "07c4177d",
   "metadata": {},
   "outputs": [
    {
     "data": {
      "text/plain": [
       "(1392522, 3)"
      ]
     },
     "execution_count": 23,
     "metadata": {},
     "output_type": "execute_result"
    }
   ],
   "source": [
    "df2.shape"
   ]
  },
  {
   "cell_type": "code",
   "execution_count": 24,
   "id": "69a1885b",
   "metadata": {},
   "outputs": [
    {
     "data": {
      "text/plain": [
       "np.int64(0)"
      ]
     },
     "execution_count": 24,
     "metadata": {},
     "output_type": "execute_result"
    }
   ],
   "source": [
    "df2.duplicated().sum()"
   ]
  },
  {
   "cell_type": "code",
   "execution_count": 25,
   "id": "0644571f",
   "metadata": {},
   "outputs": [],
   "source": [
    "def filter_ai_generated(df):\n",
    "    if 'source' not in df.columns:\n",
    "        raise ValueError(\"The DataFrame must have a 'source' column.\")\n",
    "    \n",
    "    df2 = df[df['source'] == 'ai'].copy()\n",
    "    return df2"
   ]
  },
  {
   "cell_type": "code",
   "execution_count": 26,
   "id": "0c5f614a",
   "metadata": {},
   "outputs": [
    {
     "data": {
      "text/html": [
       "<div>\n",
       "<style scoped>\n",
       "    .dataframe tbody tr th:only-of-type {\n",
       "        vertical-align: middle;\n",
       "    }\n",
       "\n",
       "    .dataframe tbody tr th {\n",
       "        vertical-align: top;\n",
       "    }\n",
       "\n",
       "    .dataframe thead th {\n",
       "        text-align: right;\n",
       "    }\n",
       "</style>\n",
       "<table border=\"1\" class=\"dataframe\">\n",
       "  <thead>\n",
       "    <tr style=\"text-align: right;\">\n",
       "      <th></th>\n",
       "      <th>source</th>\n",
       "      <th>id</th>\n",
       "      <th>text</th>\n",
       "    </tr>\n",
       "  </thead>\n",
       "  <tbody>\n",
       "    <tr>\n",
       "      <th>1028146</th>\n",
       "      <td>ai</td>\n",
       "      <td>1048108</td>\n",
       "      <td>\\nSure! The process for setting up a hydroponi...</td>\n",
       "    </tr>\n",
       "    <tr>\n",
       "      <th>1028147</th>\n",
       "      <td>ai</td>\n",
       "      <td>1048109</td>\n",
       "      <td>The best type of wine to pair with steak depe...</td>\n",
       "    </tr>\n",
       "    <tr>\n",
       "      <th>1028148</th>\n",
       "      <td>ai</td>\n",
       "      <td>1048110</td>\n",
       "      <td>\\n\\nAnswer: To determine if an investment is a...</td>\n",
       "    </tr>\n",
       "    <tr>\n",
       "      <th>1028149</th>\n",
       "      <td>ai</td>\n",
       "      <td>1048111</td>\n",
       "      <td>\\n\\nSome financial advice is to always pay you...</td>\n",
       "    </tr>\n",
       "    <tr>\n",
       "      <th>1028150</th>\n",
       "      <td>ai</td>\n",
       "      <td>1048112</td>\n",
       "      <td>\\nThe type of safety devices you should instal...</td>\n",
       "    </tr>\n",
       "  </tbody>\n",
       "</table>\n",
       "</div>"
      ],
      "text/plain": [
       "        source       id                                               text\n",
       "1028146     ai  1048108  \\nSure! The process for setting up a hydroponi...\n",
       "1028147     ai  1048109   The best type of wine to pair with steak depe...\n",
       "1028148     ai  1048110  \\n\\nAnswer: To determine if an investment is a...\n",
       "1028149     ai  1048111  \\n\\nSome financial advice is to always pay you...\n",
       "1028150     ai  1048112  \\nThe type of safety devices you should instal..."
      ]
     },
     "execution_count": 26,
     "metadata": {},
     "output_type": "execute_result"
    }
   ],
   "source": [
    "df2 = filter_ai_generated(df2)\n",
    "df2.head()\n"
   ]
  },
  {
   "cell_type": "code",
   "execution_count": 27,
   "id": "eac54b7a",
   "metadata": {},
   "outputs": [
    {
     "data": {
      "text/plain": [
       "(364376, 3)"
      ]
     },
     "execution_count": 27,
     "metadata": {},
     "output_type": "execute_result"
    }
   ],
   "source": [
    "df2.shape"
   ]
  },
  {
   "cell_type": "code",
   "execution_count": 28,
   "id": "5e889767",
   "metadata": {},
   "outputs": [
    {
     "name": "stdout",
     "output_type": "stream",
     "text": [
      "<class 'pandas.core.frame.DataFrame'>\n",
      "Index: 364376 entries, 1028146 to 1392521\n",
      "Data columns (total 3 columns):\n",
      " #   Column  Non-Null Count   Dtype \n",
      "---  ------  --------------   ----- \n",
      " 0   source  364376 non-null  object\n",
      " 1   id      364376 non-null  int64 \n",
      " 2   text    364376 non-null  object\n",
      "dtypes: int64(1), object(2)\n",
      "memory usage: 11.1+ MB\n"
     ]
    }
   ],
   "source": [
    "df2.info()"
   ]
  },
  {
   "cell_type": "code",
   "execution_count": 29,
   "id": "abc430eb",
   "metadata": {},
   "outputs": [],
   "source": [
    "df2= df2[:199715]"
   ]
  },
  {
   "cell_type": "code",
   "execution_count": 30,
   "id": "c6ffc6d9",
   "metadata": {},
   "outputs": [
    {
     "data": {
      "text/plain": [
       "(199715, 3)"
      ]
     },
     "execution_count": 30,
     "metadata": {},
     "output_type": "execute_result"
    }
   ],
   "source": [
    "df2.shape"
   ]
  },
  {
   "cell_type": "code",
   "execution_count": 31,
   "id": "38f49e31",
   "metadata": {},
   "outputs": [
    {
     "name": "stdout",
     "output_type": "stream",
     "text": [
      "<class 'pandas.core.frame.DataFrame'>\n",
      "Index: 199715 entries, 1028146 to 1227860\n",
      "Data columns (total 3 columns):\n",
      " #   Column  Non-Null Count   Dtype \n",
      "---  ------  --------------   ----- \n",
      " 0   source  199715 non-null  object\n",
      " 1   id      199715 non-null  int64 \n",
      " 2   text    199715 non-null  object\n",
      "dtypes: int64(1), object(2)\n",
      "memory usage: 6.1+ MB\n"
     ]
    }
   ],
   "source": [
    "df2.info()"
   ]
  },
  {
   "cell_type": "code",
   "execution_count": 32,
   "id": "19b2541f",
   "metadata": {},
   "outputs": [],
   "source": [
    "df2 = df2.drop(columns=['id'])"
   ]
  },
  {
   "cell_type": "code",
   "execution_count": 33,
   "id": "ec0c529e",
   "metadata": {},
   "outputs": [
    {
     "name": "stdout",
     "output_type": "stream",
     "text": [
      "<class 'pandas.core.frame.DataFrame'>\n",
      "Index: 199715 entries, 1028146 to 1227860\n",
      "Data columns (total 2 columns):\n",
      " #   Column  Non-Null Count   Dtype \n",
      "---  ------  --------------   ----- \n",
      " 0   source  199715 non-null  object\n",
      " 1   text    199715 non-null  object\n",
      "dtypes: object(2)\n",
      "memory usage: 4.6+ MB\n"
     ]
    }
   ],
   "source": [
    "df2.info()"
   ]
  },
  {
   "cell_type": "code",
   "execution_count": 34,
   "id": "b355ad3f",
   "metadata": {},
   "outputs": [],
   "source": [
    "df2['source'] = df2['source'].apply(lambda x: 1 if x == 'ai' else 0)"
   ]
  },
  {
   "cell_type": "code",
   "execution_count": 35,
   "id": "094b7352",
   "metadata": {},
   "outputs": [
    {
     "data": {
      "text/html": [
       "<div>\n",
       "<style scoped>\n",
       "    .dataframe tbody tr th:only-of-type {\n",
       "        vertical-align: middle;\n",
       "    }\n",
       "\n",
       "    .dataframe tbody tr th {\n",
       "        vertical-align: top;\n",
       "    }\n",
       "\n",
       "    .dataframe thead th {\n",
       "        text-align: right;\n",
       "    }\n",
       "</style>\n",
       "<table border=\"1\" class=\"dataframe\">\n",
       "  <thead>\n",
       "    <tr style=\"text-align: right;\">\n",
       "      <th></th>\n",
       "      <th>source</th>\n",
       "      <th>text</th>\n",
       "    </tr>\n",
       "  </thead>\n",
       "  <tbody>\n",
       "    <tr>\n",
       "      <th>1028146</th>\n",
       "      <td>1</td>\n",
       "      <td>\\nSure! The process for setting up a hydroponi...</td>\n",
       "    </tr>\n",
       "    <tr>\n",
       "      <th>1028147</th>\n",
       "      <td>1</td>\n",
       "      <td>The best type of wine to pair with steak depe...</td>\n",
       "    </tr>\n",
       "    <tr>\n",
       "      <th>1028148</th>\n",
       "      <td>1</td>\n",
       "      <td>\\n\\nAnswer: To determine if an investment is a...</td>\n",
       "    </tr>\n",
       "    <tr>\n",
       "      <th>1028149</th>\n",
       "      <td>1</td>\n",
       "      <td>\\n\\nSome financial advice is to always pay you...</td>\n",
       "    </tr>\n",
       "    <tr>\n",
       "      <th>1028150</th>\n",
       "      <td>1</td>\n",
       "      <td>\\nThe type of safety devices you should instal...</td>\n",
       "    </tr>\n",
       "  </tbody>\n",
       "</table>\n",
       "</div>"
      ],
      "text/plain": [
       "         source                                               text\n",
       "1028146       1  \\nSure! The process for setting up a hydroponi...\n",
       "1028147       1   The best type of wine to pair with steak depe...\n",
       "1028148       1  \\n\\nAnswer: To determine if an investment is a...\n",
       "1028149       1  \\n\\nSome financial advice is to always pay you...\n",
       "1028150       1  \\nThe type of safety devices you should instal..."
      ]
     },
     "execution_count": 35,
     "metadata": {},
     "output_type": "execute_result"
    }
   ],
   "source": [
    "df2.head()"
   ]
  },
  {
   "cell_type": "code",
   "execution_count": 36,
   "id": "aacc278c",
   "metadata": {},
   "outputs": [
    {
     "name": "stdout",
     "output_type": "stream",
     "text": [
      "<class 'pandas.core.frame.DataFrame'>\n",
      "Index: 199715 entries, 1028146 to 1227860\n",
      "Data columns (total 2 columns):\n",
      " #   Column  Non-Null Count   Dtype \n",
      "---  ------  --------------   ----- \n",
      " 0   source  199715 non-null  int64 \n",
      " 1   text    199715 non-null  object\n",
      "dtypes: int64(1), object(1)\n",
      "memory usage: 4.6+ MB\n"
     ]
    }
   ],
   "source": [
    "df2.info()"
   ]
  },
  {
   "cell_type": "code",
   "execution_count": 37,
   "id": "111464fe",
   "metadata": {},
   "outputs": [
    {
     "data": {
      "text/plain": [
       "np.int64(157)"
      ]
     },
     "execution_count": 37,
     "metadata": {},
     "output_type": "execute_result"
    }
   ],
   "source": [
    "df2.duplicated().sum()"
   ]
  },
  {
   "cell_type": "code",
   "execution_count": 38,
   "id": "821424ab",
   "metadata": {},
   "outputs": [],
   "source": [
    "df2.drop_duplicates(inplace=True)"
   ]
  },
  {
   "cell_type": "code",
   "execution_count": 39,
   "id": "4ac7b49a",
   "metadata": {},
   "outputs": [
    {
     "data": {
      "text/plain": [
       "np.int64(0)"
      ]
     },
     "execution_count": 39,
     "metadata": {},
     "output_type": "execute_result"
    }
   ],
   "source": [
    "df2.duplicated().sum()"
   ]
  },
  {
   "cell_type": "code",
   "execution_count": 40,
   "id": "f1a91e7c",
   "metadata": {},
   "outputs": [
    {
     "name": "stdout",
     "output_type": "stream",
     "text": [
      "<class 'pandas.core.frame.DataFrame'>\n",
      "Index: 199715 entries, 0 to 200228\n",
      "Data columns (total 2 columns):\n",
      " #   Column  Non-Null Count   Dtype \n",
      "---  ------  --------------   ----- \n",
      " 0   text    199715 non-null  object\n",
      " 1   source  199715 non-null  int64 \n",
      "dtypes: int64(1), object(1)\n",
      "memory usage: 4.6+ MB\n"
     ]
    }
   ],
   "source": [
    "df1.info()"
   ]
  },
  {
   "cell_type": "code",
   "execution_count": 41,
   "id": "e9842623",
   "metadata": {},
   "outputs": [
    {
     "name": "stdout",
     "output_type": "stream",
     "text": [
      "<class 'pandas.core.frame.DataFrame'>\n",
      "Index: 199558 entries, 1028146 to 1227860\n",
      "Data columns (total 2 columns):\n",
      " #   Column  Non-Null Count   Dtype \n",
      "---  ------  --------------   ----- \n",
      " 0   source  199558 non-null  int64 \n",
      " 1   text    199558 non-null  object\n",
      "dtypes: int64(1), object(1)\n",
      "memory usage: 4.6+ MB\n"
     ]
    }
   ],
   "source": [
    "df2.info()"
   ]
  },
  {
   "cell_type": "code",
   "execution_count": 42,
   "id": "e130c6a7",
   "metadata": {},
   "outputs": [
    {
     "data": {
      "text/html": [
       "<div>\n",
       "<style scoped>\n",
       "    .dataframe tbody tr th:only-of-type {\n",
       "        vertical-align: middle;\n",
       "    }\n",
       "\n",
       "    .dataframe tbody tr th {\n",
       "        vertical-align: top;\n",
       "    }\n",
       "\n",
       "    .dataframe thead th {\n",
       "        text-align: right;\n",
       "    }\n",
       "</style>\n",
       "<table border=\"1\" class=\"dataframe\">\n",
       "  <thead>\n",
       "    <tr style=\"text-align: right;\">\n",
       "      <th></th>\n",
       "      <th>text</th>\n",
       "      <th>source</th>\n",
       "    </tr>\n",
       "  </thead>\n",
       "  <tbody>\n",
       "    <tr>\n",
       "      <th>0</th>\n",
       "      <td>when modi promised “minimum government maximum...</td>\n",
       "      <td>0</td>\n",
       "    </tr>\n",
       "    <tr>\n",
       "      <th>1</th>\n",
       "      <td>talk all the nonsense and continue all the dra...</td>\n",
       "      <td>0</td>\n",
       "    </tr>\n",
       "    <tr>\n",
       "      <th>2</th>\n",
       "      <td>what did just say vote for modi  welcome bjp t...</td>\n",
       "      <td>0</td>\n",
       "    </tr>\n",
       "    <tr>\n",
       "      <th>3</th>\n",
       "      <td>asking his supporters prefix chowkidar their n...</td>\n",
       "      <td>0</td>\n",
       "    </tr>\n",
       "    <tr>\n",
       "      <th>4</th>\n",
       "      <td>answer who among these the most powerful world...</td>\n",
       "      <td>0</td>\n",
       "    </tr>\n",
       "  </tbody>\n",
       "</table>\n",
       "</div>"
      ],
      "text/plain": [
       "                                                text  source\n",
       "0  when modi promised “minimum government maximum...       0\n",
       "1  talk all the nonsense and continue all the dra...       0\n",
       "2  what did just say vote for modi  welcome bjp t...       0\n",
       "3  asking his supporters prefix chowkidar their n...       0\n",
       "4  answer who among these the most powerful world...       0"
      ]
     },
     "execution_count": 42,
     "metadata": {},
     "output_type": "execute_result"
    }
   ],
   "source": [
    "df = pd.concat([df1, df2], ignore_index=True)\n",
    "df.head()"
   ]
  },
  {
   "cell_type": "code",
   "execution_count": 43,
   "id": "381ed0df",
   "metadata": {},
   "outputs": [
    {
     "name": "stdout",
     "output_type": "stream",
     "text": [
      "<class 'pandas.core.frame.DataFrame'>\n",
      "RangeIndex: 399273 entries, 0 to 399272\n",
      "Data columns (total 2 columns):\n",
      " #   Column  Non-Null Count   Dtype \n",
      "---  ------  --------------   ----- \n",
      " 0   text    399273 non-null  object\n",
      " 1   source  399273 non-null  int64 \n",
      "dtypes: int64(1), object(1)\n",
      "memory usage: 6.1+ MB\n"
     ]
    }
   ],
   "source": [
    "df.info()"
   ]
  },
  {
   "cell_type": "code",
   "execution_count": 44,
   "id": "98fbd7a5",
   "metadata": {},
   "outputs": [
    {
     "data": {
      "text/plain": [
       "array([0, 1])"
      ]
     },
     "execution_count": 44,
     "metadata": {},
     "output_type": "execute_result"
    }
   ],
   "source": [
    "df['source'].unique()"
   ]
  },
  {
   "cell_type": "code",
   "execution_count": 45,
   "id": "479d14b7",
   "metadata": {},
   "outputs": [
    {
     "data": {
      "text/plain": [
       "np.int64(0)"
      ]
     },
     "execution_count": 45,
     "metadata": {},
     "output_type": "execute_result"
    }
   ],
   "source": [
    "df.duplicated().sum()"
   ]
  },
  {
   "cell_type": "markdown",
   "id": "ca5c3832",
   "metadata": {},
   "source": [
    "Preproccessing"
   ]
  },
  {
   "cell_type": "code",
   "execution_count": 46,
   "id": "bfba2387",
   "metadata": {},
   "outputs": [
    {
     "data": {
      "text/plain": [
       "<Axes: xlabel='source', ylabel='count'>"
      ]
     },
     "execution_count": 46,
     "metadata": {},
     "output_type": "execute_result"
    },
    {
     "data": {
      "image/png": "[encoded data removed]",
      "text/plain": [
       "<Figure size 640x480 with 1 Axes>"
      ]
     },
     "metadata": {},
     "output_type": "display_data"
    }
   ],
   "source": [
    "sns.countplot(data=df,x='source')"
   ]
  },
  {
   "cell_type": "code",
   "execution_count": 47,
   "id": "97e05025",
   "metadata": {},
   "outputs": [
    {
     "data": {
      "text/plain": [
       "'when modi promised “minimum government maximum governance” expected him begin the difficult job reforming the state why does take years get justice state should and not business and should exit psus and temples'"
      ]
     },
     "execution_count": 47,
     "metadata": {},
     "output_type": "execute_result"
    }
   ],
   "source": [
    "df['text'][0]"
   ]
  },
  {
   "cell_type": "code",
   "execution_count": 48,
   "id": "ca0c7254",
   "metadata": {},
   "outputs": [
    {
     "data": {
      "image/png": "[encoded data removed]",
      "text/plain": [
       "<Figure size 1000x600 with 1 Axes>"
      ]
     },
     "metadata": {},
     "output_type": "display_data"
    }
   ],
   "source": [
    "df['text_length'] = df['text'].apply(len)\n",
    "plt.figure(figsize=(10, 6))\n",
    "sns.histplot(df['text_length'], bins=20, kde=True)\n",
    "plt.title(\"Distribution of Text Lengths\")\n",
    "plt.xlabel(\"Text Length\")\n",
    "plt.ylabel(\"Frequency\")\n",
    "plt.xticks(fontsize=14)\n",
    "plt.yticks(fontsize=14)\n",
    "plt.show()"
   ]
  },
  {
   "cell_type": "code",
   "execution_count": 49,
   "id": "bc8117cd",
   "metadata": {},
   "outputs": [
    {
     "data": {
      "text/plain": [
       "count    399273.000000\n",
       "mean       1309.158127\n",
       "std        1675.484881\n",
       "min           1.000000\n",
       "25%         107.000000\n",
       "50%         249.000000\n",
       "75%        2305.000000\n",
       "max        8665.000000\n",
       "Name: text_length, dtype: float64"
      ]
     },
     "execution_count": 49,
     "metadata": {},
     "output_type": "execute_result"
    }
   ],
   "source": [
    "df['text_length'].describe()"
   ]
  },
  {
   "cell_type": "code",
   "execution_count": 50,
   "id": "ce3802f4",
   "metadata": {},
   "outputs": [],
   "source": [
    "df = df.drop(columns=['text_length'])"
   ]
  },
  {
   "cell_type": "code",
   "execution_count": 51,
   "id": "5d121ba1",
   "metadata": {},
   "outputs": [
    {
     "name": "stdout",
     "output_type": "stream",
     "text": [
      "<class 'pandas.core.frame.DataFrame'>\n",
      "RangeIndex: 399273 entries, 0 to 399272\n",
      "Data columns (total 2 columns):\n",
      " #   Column  Non-Null Count   Dtype \n",
      "---  ------  --------------   ----- \n",
      " 0   text    399273 non-null  object\n",
      " 1   source  399273 non-null  int64 \n",
      "dtypes: int64(1), object(1)\n",
      "memory usage: 6.1+ MB\n"
     ]
    }
   ],
   "source": [
    "df.info()"
   ]
  },
  {
   "cell_type": "code",
   "execution_count": 52,
   "id": "d06f55a4",
   "metadata": {},
   "outputs": [
    {
     "data": {
      "text/plain": [
       "'when modi promised “minimum government maximum governance” expected him begin the difficult job reforming the state why does take years get justice state should and not business and should exit psus and temples'"
      ]
     },
     "execution_count": 52,
     "metadata": {},
     "output_type": "execute_result"
    }
   ],
   "source": [
    "df['text'][0]"
   ]
  },
  {
   "cell_type": "code",
   "execution_count": 53,
   "id": "a2613e53",
   "metadata": {},
   "outputs": [],
   "source": [
    "def clean_text(text):\n",
    "    cleaning_pattern = r'[^a-zA-Z\\s]'\n",
    "\n",
    "    clean_text = re.sub(cleaning_pattern, '', text)\n",
    "\n",
    "    clean_text = clean_text.replace('\\n', ' ')\n",
    "\n",
    "    clean_text = re.sub(r'\\s+', ' ', clean_text)\n",
    "\n",
    "    return clean_text.strip()"
   ]
  },
  {
   "cell_type": "code",
   "execution_count": 54,
   "id": "29192cbe",
   "metadata": {},
   "outputs": [],
   "source": [
    "df['text'] = df['text'].apply(clean_text)"
   ]
  },
  {
   "cell_type": "code",
   "execution_count": 55,
   "id": "1e28412e",
   "metadata": {},
   "outputs": [],
   "source": [
    "df['text'] = df['text'].str.lower()"
   ]
  },
  {
   "cell_type": "code",
   "execution_count": 56,
   "id": "b57fe222",
   "metadata": {},
   "outputs": [
    {
     "data": {
      "text/plain": [
       "'when modi promised minimum government maximum governance expected him begin the difficult job reforming the state why does take years get justice state should and not business and should exit psus and temples'"
      ]
     },
     "execution_count": 56,
     "metadata": {},
     "output_type": "execute_result"
    }
   ],
   "source": [
    "df['text'][0]"
   ]
  },
  {
   "cell_type": "code",
   "execution_count": 57,
   "id": "3a18eb0e",
   "metadata": {},
   "outputs": [
    {
     "data": {
      "text/html": [
       "<div>\n",
       "<style scoped>\n",
       "    .dataframe tbody tr th:only-of-type {\n",
       "        vertical-align: middle;\n",
       "    }\n",
       "\n",
       "    .dataframe tbody tr th {\n",
       "        vertical-align: top;\n",
       "    }\n",
       "\n",
       "    .dataframe thead th {\n",
       "        text-align: right;\n",
       "    }\n",
       "</style>\n",
       "<table border=\"1\" class=\"dataframe\">\n",
       "  <thead>\n",
       "    <tr style=\"text-align: right;\">\n",
       "      <th></th>\n",
       "      <th>text</th>\n",
       "      <th>source</th>\n",
       "    </tr>\n",
       "  </thead>\n",
       "  <tbody>\n",
       "    <tr>\n",
       "      <th>0</th>\n",
       "      <td>when modi promised minimum government maximum ...</td>\n",
       "      <td>0</td>\n",
       "    </tr>\n",
       "    <tr>\n",
       "      <th>1</th>\n",
       "      <td>talk all the nonsense and continue all the dra...</td>\n",
       "      <td>0</td>\n",
       "    </tr>\n",
       "    <tr>\n",
       "      <th>2</th>\n",
       "      <td>what did just say vote for modi welcome bjp to...</td>\n",
       "      <td>0</td>\n",
       "    </tr>\n",
       "    <tr>\n",
       "      <th>3</th>\n",
       "      <td>asking his supporters prefix chowkidar their n...</td>\n",
       "      <td>0</td>\n",
       "    </tr>\n",
       "    <tr>\n",
       "      <th>4</th>\n",
       "      <td>answer who among these the most powerful world...</td>\n",
       "      <td>0</td>\n",
       "    </tr>\n",
       "  </tbody>\n",
       "</table>\n",
       "</div>"
      ],
      "text/plain": [
       "                                                text  source\n",
       "0  when modi promised minimum government maximum ...       0\n",
       "1  talk all the nonsense and continue all the dra...       0\n",
       "2  what did just say vote for modi welcome bjp to...       0\n",
       "3  asking his supporters prefix chowkidar their n...       0\n",
       "4  answer who among these the most powerful world...       0"
      ]
     },
     "execution_count": 57,
     "metadata": {},
     "output_type": "execute_result"
    }
   ],
   "source": [
    "df.head()"
   ]
  },
  {
   "cell_type": "code",
   "execution_count": 58,
   "id": "0840d5d8",
   "metadata": {},
   "outputs": [
    {
     "data": {
      "image/png": "[encoded data removed]",
      "text/plain": [
       "<Figure size 1200x600 with 1 Axes>"
      ]
     },
     "metadata": {},
     "output_type": "display_data"
    }
   ],
   "source": [
    "top_words = Counter(\" \".join(df[df['source'] == 0]['text']).split()).most_common(10)\n",
    "\n",
    "words, counts = zip(*top_words)\n",
    "\n",
    "plt.figure(figsize=(12,6))\n",
    "plt.bar(words, counts, color='skyblue')\n",
    "plt.title('Top 10 Most Common Words')\n",
    "plt.xlabel('Words')\n",
    "plt.ylabel('Counts')\n",
    "plt.xticks(fontsize=14)\n",
    "plt.yticks(fontsize=14)\n",
    "plt.tight_layout()\n",
    "plt.show()\n"
   ]
  },
  {
   "cell_type": "code",
   "execution_count": 59,
   "id": "396f7098",
   "metadata": {},
   "outputs": [
    {
     "data": {
      "image/png": "[encoded data removed]",
      "text/plain": [
       "<Figure size 1200x600 with 1 Axes>"
      ]
     },
     "metadata": {},
     "output_type": "display_data"
    }
   ],
   "source": [
    "top_words = Counter(\" \".join(df[df['source'] == 1]['text']).split()).most_common(10)\n",
    "\n",
    "words, counts = zip(*top_words)\n",
    "\n",
    "plt.figure(figsize=(12,6))\n",
    "plt.bar(words, counts, color='skyblue')\n",
    "plt.title('Top 10 Most Common Words')\n",
    "plt.xlabel('Words')\n",
    "plt.ylabel('Counts')\n",
    "plt.xticks(fontsize=14)\n",
    "plt.yticks(fontsize=14)\n",
    "plt.tight_layout()\n",
    "plt.show()"
   ]
  },
  {
   "cell_type": "code",
   "execution_count": 60,
   "id": "73f07f2d",
   "metadata": {},
   "outputs": [
    {
     "name": "stderr",
     "output_type": "stream",
     "text": [
      "[nltk_data] Downloading package punkt to\n",
      "[nltk_data]     C:\\Users\\adham\\AppData\\Roaming\\nltk_data...\n",
      "[nltk_data]   Package punkt is already up-to-date!\n"
     ]
    }
   ],
   "source": [
    "import nltk\n",
    "from nltk.tokenize import word_tokenize\n",
    "\n",
    "nltk.download('punkt')\n",
    "\n",
    "df['tokenized_text'] = df['text'].apply(lambda x: word_tokenize(x))"
   ]
  },
  {
   "cell_type": "code",
   "execution_count": 61,
   "id": "6364c75c",
   "metadata": {},
   "outputs": [
    {
     "name": "stderr",
     "output_type": "stream",
     "text": [
      "[nltk_data] Downloading package stopwords to\n",
      "[nltk_data]     C:\\Users\\adham\\AppData\\Roaming\\nltk_data...\n",
      "[nltk_data]   Package stopwords is already up-to-date!\n"
     ]
    }
   ],
   "source": [
    "import nltk\n",
    "from nltk.corpus import stopwords\n",
    "\n",
    "nltk.download('stopwords')\n",
    "\n",
    "stop_words = set(stopwords.words('english'))\n",
    "\n",
    "def remove_stopwords(tokens):\n",
    "    filtered_tokens = [word for word in tokens if word.lower() not in stop_words]\n",
    "    return filtered_tokens"
   ]
  },
  {
   "cell_type": "code",
   "execution_count": 62,
   "id": "7a25d3c0",
   "metadata": {},
   "outputs": [],
   "source": [
    "df['tokenized_text'] = df['tokenized_text'].apply(lambda x: remove_stopwords(x))"
   ]
  },
  {
   "cell_type": "code",
   "execution_count": 63,
   "id": "57c55d14",
   "metadata": {},
   "outputs": [
    {
     "data": {
      "image/png": "[encoded data removed]",
      "text/plain": [
       "<Figure size 1200x600 with 1 Axes>"
      ]
     },
     "metadata": {},
     "output_type": "display_data"
    }
   ],
   "source": [
    "all_tokens = [token for tokens_list in df[df['source'] == 0]['tokenized_text'] for token in tokens_list]\n",
    "\n",
    "top_words = Counter(all_tokens).most_common(10)\n",
    "\n",
    "words, counts = zip(*top_words)\n",
    "\n",
    "plt.figure(figsize=(12,6))\n",
    "plt.bar(words, counts, color='skyblue')\n",
    "plt.title('Top 10 Most Common Words')\n",
    "plt.xlabel('Words')\n",
    "plt.ylabel('Counts')\n",
    "plt.xticks(fontsize=14)\n",
    "plt.yticks(fontsize=14)\n",
    "plt.tight_layout()\n",
    "plt.show()"
   ]
  },
  {
   "cell_type": "code",
   "execution_count": 64,
   "id": "4844f5d4",
   "metadata": {},
   "outputs": [
    {
     "data": {
      "image/png": "[encoded data removed]",
      "text/plain": [
       "<Figure size 1200x600 with 1 Axes>"
      ]
     },
     "metadata": {},
     "output_type": "display_data"
    }
   ],
   "source": [
    "all_tokens = [token for tokens_list in df[df['source'] == 1]['tokenized_text'] for token in tokens_list]\n",
    "\n",
    "top_words = Counter(all_tokens).most_common(10)\n",
    "\n",
    "words, counts = zip(*top_words)\n",
    "\n",
    "plt.figure(figsize=(12,6))\n",
    "plt.bar(words, counts, color='skyblue')\n",
    "plt.title('Top 10 Most Common Words')\n",
    "plt.xlabel('Words')\n",
    "plt.ylabel('Counts')\n",
    "plt.xticks(fontsize=14)\n",
    "plt.yticks(fontsize=14)\n",
    "plt.tight_layout()\n",
    "plt.show()"
   ]
  },
  {
   "cell_type": "code",
   "execution_count": 65,
   "id": "4e94a333",
   "metadata": {},
   "outputs": [
    {
     "data": {
      "text/plain": [
       "['modi',\n",
       " 'promised',\n",
       " 'minimum',\n",
       " 'government',\n",
       " 'maximum',\n",
       " 'governance',\n",
       " 'expected',\n",
       " 'begin',\n",
       " 'difficult',\n",
       " 'job',\n",
       " 'reforming',\n",
       " 'state',\n",
       " 'take',\n",
       " 'years',\n",
       " 'get',\n",
       " 'justice',\n",
       " 'state',\n",
       " 'business',\n",
       " 'exit',\n",
       " 'psus',\n",
       " 'temples']"
      ]
     },
     "execution_count": 65,
     "metadata": {},
     "output_type": "execute_result"
    }
   ],
   "source": [
    "df['tokenized_text'][0]"
   ]
  },
  {
   "cell_type": "code",
   "execution_count": 66,
   "id": "b2388ae5",
   "metadata": {},
   "outputs": [
    {
     "name": "stderr",
     "output_type": "stream",
     "text": [
      "[nltk_data] Downloading package wordnet to\n",
      "[nltk_data]     C:\\Users\\adham\\AppData\\Roaming\\nltk_data...\n",
      "[nltk_data]   Package wordnet is already up-to-date!\n"
     ]
    }
   ],
   "source": [
    "from nltk.stem import WordNetLemmatizer\n",
    "import nltk\n",
    "nltk.download('wordnet')\n",
    "\n",
    "lemmatizer = WordNetLemmatizer()\n",
    "\n",
    "def lemmatize_text(tokens):\n",
    "    lemmatized_tokens = [lemmatizer.lemmatize(word) for word in tokens]\n",
    "    return lemmatized_tokens\n",
    "\n",
    "df['lemmatized_text'] = df['tokenized_text'].apply(lemmatize_text)"
   ]
  },
  {
   "cell_type": "code",
   "execution_count": 67,
   "id": "47c072cd",
   "metadata": {},
   "outputs": [
    {
     "data": {
      "image/png": "[encoded data removed]",
      "text/plain": [
       "<Figure size 1200x600 with 1 Axes>"
      ]
     },
     "metadata": {},
     "output_type": "display_data"
    }
   ],
   "source": [
    "all_tokens = [token for tokens_list in df[df['source'] == 0]['lemmatized_text'] for token in tokens_list]\n",
    "\n",
    "top_words = Counter(all_tokens).most_common(10)\n",
    "\n",
    "words, counts = zip(*top_words)\n",
    "\n",
    "plt.figure(figsize=(12,6))\n",
    "plt.bar(words, counts, color='skyblue')\n",
    "plt.title('Top 10 Most Common Words')\n",
    "plt.xlabel('Words')\n",
    "plt.ylabel('Counts')\n",
    "plt.xticks(fontsize=14)\n",
    "plt.yticks(fontsize=14)\n",
    "plt.tight_layout()\n",
    "plt.show()"
   ]
  },
  {
   "cell_type": "code",
   "execution_count": 68,
   "id": "4e664ccd",
   "metadata": {},
   "outputs": [
    {
     "data": {
      "image/png": "[encoded data removed]",
      "text/plain": [
       "<Figure size 1200x600 with 1 Axes>"
      ]
     },
     "metadata": {},
     "output_type": "display_data"
    }
   ],
   "source": [
    "all_tokens = [token for tokens_list in df[df['source'] == 1]['lemmatized_text'] for token in tokens_list]\n",
    "\n",
    "top_words = Counter(all_tokens).most_common(10)\n",
    "\n",
    "words, counts = zip(*top_words)\n",
    "\n",
    "plt.figure(figsize=(12,6))\n",
    "plt.bar(words, counts, color='skyblue')\n",
    "plt.title('Top 10 Most Common Words')\n",
    "plt.xlabel('Words')\n",
    "plt.ylabel('Counts')\n",
    "plt.xticks(fontsize=14)\n",
    "plt.yticks(fontsize=14)\n",
    "plt.tight_layout()\n",
    "plt.show()"
   ]
  },
  {
   "cell_type": "code",
   "execution_count": null,
   "id": "350af30e",
   "metadata": {},
   "outputs": [],
   "source": [
    "df.to_pickle('sentence.pkl')\n",
    "#This was done once before. Do not run this cell just read the pkl file."
   ]
  },
  {
   "cell_type": "markdown",
   "id": "ebdb3a2a",
   "metadata": {},
   "source": [
    "The following section is designated for machine learning models."
   ]
  },
  {
   "cell_type": "code",
   "execution_count": 1,
   "id": "f39e0d74",
   "metadata": {},
   "outputs": [],
   "source": [
    "import pandas as pd\n",
    "df = pd.read_pickle('pickles\\sentence.pkl')\n",
    "# read the preprocessed data file."
   ]
  },
  {
   "cell_type": "code",
   "execution_count": 2,
   "id": "d452d7f5",
   "metadata": {},
   "outputs": [
    {
     "name": "stdout",
     "output_type": "stream",
     "text": [
      "<class 'list'>\n",
      "['modi', 'promised', 'minimum', 'government', 'maximum', 'governance', 'expected', 'begin', 'difficult', 'job', 'reforming', 'state', 'take', 'year', 'get', 'justice', 'state', 'business', 'exit', 'psus', 'temple']\n"
     ]
    }
   ],
   "source": [
    "print(type(df['lemmatized_text'][0]))\n",
    "print(df['lemmatized_text'][0])"
   ]
  },
  {
   "cell_type": "code",
   "execution_count": 3,
   "id": "1383a4bc",
   "metadata": {},
   "outputs": [],
   "source": [
    "X = df['lemmatized_text']\n",
    "y = df['source']"
   ]
  },
  {
   "cell_type": "code",
   "execution_count": 4,
   "id": "febee2e1",
   "metadata": {},
   "outputs": [],
   "source": [
    "X = [' '.join(doc) for doc in X]"
   ]
  },
  {
   "cell_type": "code",
   "execution_count": 5,
   "id": "53bf321e",
   "metadata": {},
   "outputs": [],
   "source": [
    "from sklearn.model_selection import train_test_split\n",
    "X_train, X_test, y_train, y_test = train_test_split(X,y,test_size=0.3,random_state=42)"
   ]
  },
  {
   "cell_type": "code",
   "execution_count": 6,
   "id": "8d43a848",
   "metadata": {},
   "outputs": [
    {
     "name": "stdout",
     "output_type": "stream",
     "text": [
      "279491\n",
      "279491\n"
     ]
    }
   ],
   "source": [
    "print(len(X_train))\n",
    "print(len(y_train))"
   ]
  },
  {
   "cell_type": "code",
   "execution_count": 10,
   "id": "040030d6",
   "metadata": {},
   "outputs": [],
   "source": [
    "from sklearn.pipeline import Pipeline\n",
    "from sklearn.feature_extraction.text import CountVectorizer, TfidfTransformer\n",
    "from sklearn.naive_bayes import MultinomialNB\n",
    "from sklearn.svm import SVC\n",
    "from sklearn.linear_model import LogisticRegression, PassiveAggressiveClassifier\n",
    "from sklearn.ensemble import RandomForestClassifier\n",
    "from xgboost import XGBClassifier\n",
    "from sklearn.neighbors import KNeighborsClassifier\n",
    "from sklearn.metrics import accuracy_score, classification_report \n"
   ]
  },
  {
   "cell_type": "code",
   "execution_count": 8,
   "id": "e640fd7f",
   "metadata": {},
   "outputs": [],
   "source": [
    "pipelines = {\n",
    "    'Naive Bayes': Pipeline([\n",
    "        ('count_vectorizer', CountVectorizer()),\n",
    "        ('tfidf_transformer', TfidfTransformer()),\n",
    "        ('classifier', MultinomialNB())\n",
    "    ]),\n",
    "\n",
    "    'Logistic Regression': Pipeline([\n",
    "        ('count_vectorizer', CountVectorizer()),\n",
    "        ('tfidf_transformer', TfidfTransformer()),\n",
    "        ('classifier', LogisticRegression(max_iter=1000))\n",
    "    ]),\n",
    "\n",
    "    'Passive Aggressive': Pipeline([\n",
    "        ('count_vectorizer', CountVectorizer()),\n",
    "        ('tfidf_transformer', TfidfTransformer()),\n",
    "        ('classifier', PassiveAggressiveClassifier(max_iter=1000))\n",
    "    ]),\n",
    "    \n",
    "    'Random Forest': Pipeline([\n",
    "        ('count_vectorizer', CountVectorizer()),\n",
    "        ('tfidf_transformer', TfidfTransformer()),\n",
    "        ('classifier', RandomForestClassifier(n_estimators=100))\n",
    "    ]),\n",
    "\n",
    "    'XGBoost': Pipeline([\n",
    "        ('count_vectorizer', CountVectorizer()),\n",
    "        ('tfidf_transformer', TfidfTransformer()),\n",
    "        ('classifier', XGBClassifier(use_label_encoder=False, eval_metric='logloss'))\n",
    "    ]),\n",
    "}"
   ]
  },
  {
   "cell_type": "code",
   "execution_count": 15,
   "id": "67941d0c",
   "metadata": {},
   "outputs": [
    {
     "name": "stdout",
     "output_type": "stream",
     "text": [
      "Naive Bayes Accuracy: 0.9550600257133793\n",
      "              precision    recall  f1-score   support\n",
      "\n",
      "           0       1.00      0.91      0.95     59963\n",
      "           1       0.92      1.00      0.96     59819\n",
      "\n",
      "    accuracy                           0.96    119782\n",
      "   macro avg       0.96      0.96      0.95    119782\n",
      "weighted avg       0.96      0.96      0.95    119782\n",
      "\n"
     ]
    }
   ],
   "source": [
    "nb_pipeline = pipelines['Naive Bayes']\n",
    "\n",
    "nb_pipeline.fit(X_train, y_train)\n",
    "\n",
    "nb_pred = nb_pipeline.predict(X_test)\n",
    "\n",
    "from sklearn.metrics import accuracy_score, classification_report \n",
    "print(\"Naive Bayes Accuracy:\", accuracy_score(y_test, nb_pred))\n",
    "print(classification_report(y_test, nb_pred))"
   ]
  },
  {
   "cell_type": "code",
   "execution_count": 16,
   "id": "854b9ec9",
   "metadata": {},
   "outputs": [
    {
     "name": "stdout",
     "output_type": "stream",
     "text": [
      "Logistic Regression Accuracy: 0.9872518408442003\n",
      "              precision    recall  f1-score   support\n",
      "\n",
      "           0       0.99      0.99      0.99     59963\n",
      "           1       0.99      0.99      0.99     59819\n",
      "\n",
      "    accuracy                           0.99    119782\n",
      "   macro avg       0.99      0.99      0.99    119782\n",
      "weighted avg       0.99      0.99      0.99    119782\n",
      "\n"
     ]
    }
   ],
   "source": [
    "logreg_pipeline = pipelines['Logistic Regression']  \n",
    "logreg_pipeline.fit(X_train, y_train)\n",
    "\n",
    "logreg_pred = logreg_pipeline.predict(X_test)\n",
    "\n",
    "print(\"Logistic Regression Accuracy:\", accuracy_score(y_test, logreg_pred))\n",
    "print(classification_report(y_test, logreg_pred))"
   ]
  },
  {
   "cell_type": "code",
   "execution_count": null,
   "id": "452cf959",
   "metadata": {},
   "outputs": [
    {
     "name": "stdout",
     "output_type": "stream",
     "text": [
      "Passive Aggressive Accuracy: 0.9877026598320282\n",
      "              precision    recall  f1-score   support\n",
      "\n",
      "           0       0.99      0.99      0.99     59963\n",
      "           1       0.99      0.99      0.99     59819\n",
      "\n",
      "    accuracy                           0.99    119782\n",
      "   macro avg       0.99      0.99      0.99    119782\n",
      "weighted avg       0.99      0.99      0.99    119782\n",
      "\n"
     ]
    }
   ],
   "source": [
    "pa_pipeline = pipelines['Passive Aggressive']\n",
    "pa_pipeline.fit(X_train, y_train)\n",
    "\n",
    "pa_pred = pa_pipeline.predict(X_test)\n",
    "\n",
    "print(\"Passive Aggressive Accuracy:\", accuracy_score(y_test, pa_pred))\n",
    "print(classification_report(y_test, pa_pred))"
   ]
  },
  {
   "cell_type": "code",
   "execution_count": 19,
   "id": "86f929c2",
   "metadata": {},
   "outputs": [
    {
     "name": "stdout",
     "output_type": "stream",
     "text": [
      "Random Forest Accuracy: 0.9779683090948557\n",
      "              precision    recall  f1-score   support\n",
      "\n",
      "           0       0.97      0.99      0.98     59963\n",
      "           1       0.99      0.97      0.98     59819\n",
      "\n",
      "    accuracy                           0.98    119782\n",
      "   macro avg       0.98      0.98      0.98    119782\n",
      "weighted avg       0.98      0.98      0.98    119782\n",
      "\n"
     ]
    }
   ],
   "source": [
    "rf_pipeline = pipelines['Random Forest']\n",
    "rf_pipeline.fit(X_train, y_train)\n",
    "\n",
    "rf_pred = rf_pipeline.predict(X_test)\n",
    "\n",
    "print(\"Random Forest Accuracy:\", accuracy_score(y_test, rf_pred))\n",
    "print(classification_report(y_test, rf_pred))"
   ]
  },
  {
   "cell_type": "code",
   "execution_count": 11,
   "id": "32257a0e",
   "metadata": {},
   "outputs": [
    {
     "name": "stderr",
     "output_type": "stream",
     "text": [
      "c:\\Users\\ammar\\anaconda3\\envs\\tfenv\\lib\\site-packages\\xgboost\\core.py:158: UserWarning: [01:17:20] WARNING: C:\\buildkite-agent\\builds\\buildkite-windows-cpu-autoscaling-group-i-08cbc0333d8d4aae1-1\\xgboost\\xgboost-ci-windows\\src\\learner.cc:740: \n",
      "Parameters: { \"use_label_encoder\" } are not used.\n",
      "\n",
      "  warnings.warn(smsg, UserWarning)\n"
     ]
    },
    {
     "name": "stdout",
     "output_type": "stream",
     "text": [
      "XGBoost Accuracy: 0.9816166034963517\n",
      "              precision    recall  f1-score   support\n",
      "\n",
      "           0       0.97      0.99      0.98     59963\n",
      "           1       0.99      0.97      0.98     59819\n",
      "\n",
      "    accuracy                           0.98    119782\n",
      "   macro avg       0.98      0.98      0.98    119782\n",
      "weighted avg       0.98      0.98      0.98    119782\n",
      "\n"
     ]
    }
   ],
   "source": [
    "xgb_pipeline = pipelines['XGBoost']\n",
    "xgb_pipeline.fit(X_train, y_train)\n",
    "\n",
    "XGBClassifier(tree_method='gpu_hist', use_label_encoder=False, eval_metric='logloss')\n",
    "\n",
    "xgb_pred = xgb_pipeline.predict(X_test)\n",
    "\n",
    "print(\"XGBoost Accuracy:\", accuracy_score(y_test, xgb_pred))\n",
    "print(classification_report(y_test, xgb_pred))"
   ]
  },
  {
   "cell_type": "markdown",
   "id": "4226b9a2",
   "metadata": {},
   "source": [
    "The following section is designated for deep learning models."
   ]
  },
  {
   "cell_type": "code",
   "execution_count": 2,
   "id": "863071e6",
   "metadata": {},
   "outputs": [
    {
     "name": "stdout",
     "output_type": "stream",
     "text": [
      "<class 'list'>\n",
      "['modi', 'promised', 'minimum', 'government', 'maximum', 'governance', 'expected', 'begin', 'difficult', 'job', 'reforming', 'state', 'take', 'year', 'get', 'justice', 'state', 'business', 'exit', 'psus', 'temple']\n"
     ]
    }
   ],
   "source": [
    "print(type(df['lemmatized_text'][0]))\n",
    "print(df['lemmatized_text'][0])"
   ]
  },
  {
   "cell_type": "code",
   "execution_count": 12,
   "id": "d08fd03a",
   "metadata": {},
   "outputs": [
    {
     "name": "stdout",
     "output_type": "stream",
     "text": [
      "Vocabulary size for embedding: 10001\n"
     ]
    }
   ],
   "source": [
    "from sklearn.model_selection import train_test_split\n",
    "import torch\n",
    "from torch.utils.data import TensorDataset, DataLoader\n",
    "from torch.nn.utils.rnn import pad_sequence\n",
    "import numpy as np\n",
    "from tensorflow.keras.preprocessing.text import Tokenizer\n",
    "from tensorflow.keras.preprocessing.sequence import pad_sequences\n",
    "\n",
    "# Your tokenized texts are lists of words (strings)\n",
    "texts = df['lemmatized_text'].tolist()  # List of lists of words\n",
    "\n",
    "# Set the max vocabulary size (including OOV token)\n",
    "max_vocab_size = 10000  # adjust as needed\n",
    "\n",
    "# Create tokenizer and fit on your corpus with vocab limit\n",
    "tokenizer = Tokenizer(num_words=max_vocab_size, oov_token='<OOV>')\n",
    "tokenizer.fit_on_texts(texts)\n",
    "\n",
    "# Convert texts to sequences of integer token IDs\n",
    "sequences = tokenizer.texts_to_sequences(texts)\n",
    "\n",
    "# Pad sequences to the same length (max length or specify maxlen)\n",
    "max_len = max(len(seq) for seq in sequences)\n",
    "padded_sequences = pad_sequences(sequences, maxlen=max_len, padding='post')\n",
    "\n",
    "# Now targets\n",
    "y = df['source'].values\n",
    "\n",
    "# Split train/test\n",
    "X_train, X_test, y_train, y_test = train_test_split(padded_sequences, y, test_size=0.2, random_state=42)\n",
    "\n",
    "# Convert to tensors\n",
    "X_train_tensor = torch.tensor(X_train, dtype=torch.long)\n",
    "y_train_tensor = torch.tensor(y_train, dtype=torch.long)\n",
    "X_test_tensor = torch.tensor(X_test, dtype=torch.long)\n",
    "y_test_tensor = torch.tensor(y_test, dtype=torch.long)\n",
    "\n",
    "# Create DataLoaders\n",
    "train_dataset = TensorDataset(X_train_tensor, y_train_tensor)\n",
    "test_dataset = TensorDataset(X_test_tensor, y_test_tensor)\n",
    "\n",
    "train_loader = DataLoader(train_dataset, batch_size=32, shuffle=True)\n",
    "test_loader = DataLoader(test_dataset, batch_size=32)\n",
    "\n",
    "# Get vocab size for embedding layer (+1 because tokenizer num_words is exclusive)\n",
    "vocab_size = max_vocab_size + 1\n",
    "print(f\"Vocabulary size for embedding: {vocab_size}\")\n",
    "\n",
    "\n",
    "\n",
    "\n",
    "\n",
    "\n"
   ]
  },
  {
   "cell_type": "code",
   "execution_count": 33,
   "id": "4bdab7e5",
   "metadata": {},
   "outputs": [],
   "source": [
    "import torch\n",
    "import torch.nn as nn\n",
    "import torch.nn.functional as F\n",
    "from transformers import RobertaModel, ElectraModel\n",
    "\n",
    "# Global hyperparameters (adjust as needed)\n",
    "vocab_size = 29500  # if you're using a tokenizer like in Keras\n",
    "embed_dim = 100    \n",
    "hidden_dim=64                        \n",
    "\n",
    "class DNNModel(nn.Module):\n",
    "    def __init__(self, vocab_size, embed_dim, num_classes):\n",
    "        super(DNNModel, self).__init__()\n",
    "        self.embedding = nn.Embedding(vocab_size, embed_dim)\n",
    "        self.global_avg_pool = lambda x: torch.mean(x, dim=1)  # GlobalAveragePooling1D\n",
    "        self.fc1 = nn.Linear(embed_dim, 128)\n",
    "        self.dropout = nn.Dropout(0.5)\n",
    "        self.fc2 = nn.Linear(128, 64)\n",
    "        self.output = nn.Linear(64, num_classes)\n",
    "        \n",
    "    def forward(self, x):\n",
    "        x = self.embedding(x)             # (batch, seq_len, embed_dim)\n",
    "        x = self.global_avg_pool(x)       # (batch, embed_dim)\n",
    "        x = torch.relu(self.fc1(x))\n",
    "        x = self.dropout(x)\n",
    "        x = torch.relu(self.fc2(x))\n",
    "        x = self.output(x)\n",
    "        return x\n",
    "\n",
    "\n",
    "\n",
    "\n",
    "class BiLSTMModel(nn.Module):\n",
    "    def __init__(self, vocab_size, embed_dim, hidden_dim, output_dim):\n",
    "        super(BiLSTMModel, self).__init__()\n",
    "        self.embedding = nn.Embedding(vocab_size, embed_dim)\n",
    "        self.lstm = nn.LSTM(embed_dim, hidden_dim, batch_first=True, bidirectional=True)\n",
    "\n",
    "        # Rename this to 'output' to match the evaluation function's check\n",
    "        self.output = nn.Linear(2 * hidden_dim, output_dim) # RENAMED HERE\n",
    "\n",
    "    def forward(self, x):\n",
    "        x = self.embedding(x)\n",
    "        _, (h_n, _) = self.lstm(x)\n",
    "        x = torch.cat((h_n[-2, :, :], h_n[-1, :, :]), dim=1)\n",
    "        x = self.output(x) # Use the new name here too\n",
    "        return x\n",
    "\n",
    "\n",
    "class CNNModel(nn.Module):\n",
    "    def __init__(self, vocab_size, embed_dim, num_classes):\n",
    "        super(CNNModel, self).__init__()\n",
    "        self.embedding = nn.Embedding(vocab_size, embed_dim)\n",
    "        self.conv1d = nn.Conv1d(in_channels=embed_dim, out_channels=128, kernel_size=5)\n",
    "        self.global_max_pool = nn.AdaptiveMaxPool1d(1)  # output size = 1\n",
    "        self.fc1 = nn.Linear(128, 64)\n",
    "        self.dropout = nn.Dropout(0.5)\n",
    "        self.fc2 = nn.Linear(64, num_classes)\n",
    "\n",
    "    def forward(self, x):\n",
    "        x = self.embedding(x)  # shape: (batch, seq_len, embed_dim)\n",
    "        x = x.permute(0, 2, 1) # conv1d expects (batch, channels, seq_len)\n",
    "        x = torch.relu(self.conv1d(x))\n",
    "        x = self.global_max_pool(x).squeeze(-1)  # shape: (batch, 128)\n",
    "        x = torch.relu(self.fc1(x))\n",
    "        x = self.dropout(x)\n",
    "        x = self.fc2(x)\n",
    "        return x\n",
    "\n",
    "\n",
    "class GRUModel(nn.Module):\n",
    "    def __init__(self, vocab_size, embed_dim, gru_hidden_dim, num_classes):\n",
    "        super(GRUModel, self).__init__()\n",
    "        self.embedding = nn.Embedding(vocab_size, embed_dim)\n",
    "        self.gru = nn.GRU(embed_dim, gru_hidden_dim, batch_first=True) \n",
    "        self.fc1 = nn.Linear(gru_hidden_dim, 128)\n",
    "        self.dropout = nn.Dropout(0.5)\n",
    "        self.fc2 = nn.Linear(128, 64)\n",
    "        self.output = nn.Linear(64, num_classes)\n",
    "        \n",
    "    def forward(self, x):\n",
    "        x = self.embedding(x)                 \n",
    "        _, hn = self.gru(x)                   \n",
    "        x = hn[-1]                            \n",
    "        x = torch.relu(self.fc1(x))           \n",
    "        x = self.dropout(x)\n",
    "        x = torch.relu(self.fc2(x))           \n",
    "        x = self.output(x)                    \n",
    "        return x\n",
    "    \n",
    "    \n",
    "\n",
    "\n"
   ]
  },
  {
   "cell_type": "code",
   "execution_count": 34,
   "id": "92b2b68c",
   "metadata": {},
   "outputs": [],
   "source": [
    "import torch\n",
    "import torch.nn as nn\n",
    "import torch.nn.functional as F\n",
    "from sklearn.metrics import (\n",
    "    accuracy_score, precision_score, recall_score, f1_score,\n",
    "    roc_auc_score, confusion_matrix, roc_curve, auc\n",
    ")\n",
    "import matplotlib.pyplot as plt\n",
    "import seaborn as sns\n",
    "import numpy as np\n",
    "from sklearn.preprocessing import LabelBinarizer\n",
    "\n",
    "def evaluate_model(model, data_loader, device):\n",
    "    model.eval()\n",
    "    all_labels_list, all_preds_list, all_probs_raw_list = [], [], []\n",
    "\n",
    "    num_classes = 0\n",
    "    if hasattr(model, 'output'):\n",
    "        num_classes = model.output.out_features\n",
    "    elif hasattr(model, 'fc2'):\n",
    "        num_classes = model.fc2.out_features\n",
    "    elif hasattr(model, 'fc') and isinstance(model.fc, nn.Linear):\n",
    "        num_classes = model.fc.out_features\n",
    "    else:\n",
    "        raise AttributeError(\"Could not determine num_classes from model's output layer (expected 'output', 'fc2', or 'fc').\")\n",
    "\n",
    "    with torch.no_grad():\n",
    "        for inputs, labels in data_loader:\n",
    "            inputs, labels = inputs.to(device), labels.to(device)\n",
    "\n",
    "            if labels.dim() == 2 and labels.size(1) == 1:\n",
    "                labels = labels.squeeze(1)\n",
    "\n",
    "            outputs = model(inputs)\n",
    "\n",
    "            if num_classes > 1:\n",
    "                probs = F.softmax(outputs, dim=1)\n",
    "                all_probs_raw_list.extend(probs.cpu().numpy())\n",
    "                \n",
    "                _, preds = torch.max(outputs, 1)\n",
    "                all_preds_list.extend(preds.cpu().numpy())\n",
    "                all_labels_list.extend(labels.cpu().numpy())\n",
    "            else: # Binary classification with a single output unit (if ever used)\n",
    "                outputs_sigmoid = torch.sigmoid(outputs)\n",
    "                probs = outputs_sigmoid.cpu().numpy()\n",
    "                all_probs_raw_list.extend(probs.flatten()) # Ensure 1D for 1-output binary\n",
    "                \n",
    "                preds = (outputs_sigmoid >= 0.5).float().cpu().numpy()\n",
    "                all_preds_list.extend(preds.flatten())\n",
    "                all_labels_list.extend(labels.cpu().numpy().flatten())\n",
    "\n",
    "    # Ensure all_labels is a 1D array of integer type\n",
    "    all_labels = np.array(all_labels_list).flatten().astype(int) \n",
    "    all_preds = np.array(all_preds_list).flatten().astype(int)\n",
    "\n",
    "    # Process all_probs_raw_list based on num_classes for metrics\n",
    "    if num_classes == 2:\n",
    "        all_probs_for_auc = np.array(all_probs_raw_list) # Will be (N, 2)\n",
    "        if all_probs_for_auc.ndim == 2: # Take probabilities of the positive class\n",
    "            all_probs_for_auc = all_probs_for_auc[:, 1]\n",
    "        elif all_probs_for_auc.ndim == 1 and np.unique(all_labels).size == 2: # Already 1D sigmoid output\n",
    "            pass # Keep as is\n",
    "        else:\n",
    "            print(\"Warning: Unexpected shape for all_probs_raw_list in binary evaluation. Reshaping to 1D.\")\n",
    "            all_probs_for_auc = all_probs_for_auc.flatten()\n",
    "            \n",
    "    elif num_classes > 2:\n",
    "        all_probs_for_auc = np.array(all_probs_raw_list) # Will be (N, num_classes)\n",
    "        # Ensure it's 2D if it's supposed to be multi-class probabilities\n",
    "        if all_probs_for_auc.ndim == 1 and num_classes > 1: # if somehow flattened for multiclass\n",
    "            print(f\"Warning: all_probs_raw_list is 1D for multi-class {num_classes}. This is likely incorrect for AUC.\")\n",
    "            # This should ideally not happen if softmax output is extended directly.\n",
    "            # If it does, there's a deeper issue in how all_probs_raw_list is collected.\n",
    "            \n",
    "    else: # num_classes is 1 or unexpected\n",
    "        all_probs_for_auc = np.array(all_probs_raw_list).flatten() # Default to 1D if single class\n",
    "\n",
    "\n",
    "    accuracy = accuracy_score(all_labels, all_preds)\n",
    "    precision = precision_score(all_labels, all_preds, average='weighted', zero_division=0)\n",
    "    recall = recall_score(all_labels, all_preds, average='weighted', zero_division=0)\n",
    "    f1 = f1_score(all_labels, all_preds, average='weighted', zero_division=0)\n",
    "    \n",
    "    roc_auc = float('nan')\n",
    "    if num_classes == 2:\n",
    "        try:\n",
    "            roc_auc = roc_auc_score(all_labels, all_probs_for_auc)\n",
    "        except ValueError:\n",
    "            roc_auc = 0.0\n",
    "    elif num_classes > 2:\n",
    "        # Check that all_probs_for_auc has the correct 2D shape for multi_class='ovr'\n",
    "        if all_probs_for_auc.shape == (len(all_labels), num_classes):\n",
    "            try:\n",
    "                roc_auc = roc_auc_score(all_labels, all_probs_for_auc, multi_class='ovr', average='weighted')\n",
    "            except ValueError:\n",
    "                roc_auc = 0.0\n",
    "        else:\n",
    "            print(f\"Warning: all_probs_for_auc shape {all_probs_for_auc.shape} mismatch with expected ({len(all_labels)}, {num_classes}) for multi-class AUC.\")\n",
    "\n",
    "    cm = confusion_matrix(all_labels, all_preds)\n",
    "\n",
    "    print(f\"Evaluation - Accuracy:  {accuracy:.4f}\")\n",
    "    print(f\"Evaluation - Precision: {precision:.4f}\")\n",
    "    print(f\"Evaluation - Recall:    {recall:.4f}\")\n",
    "    print(f\"Evaluation - F1 Score:  {f1:.4f}\")\n",
    "    if not np.isnan(roc_auc):\n",
    "        print(f\"Evaluation - AUC-ROC:   {roc_auc:.4f}\")\n",
    "    else:\n",
    "        print(\"Evaluation - AUC-ROC:   Not applicable or calculation failed for AUC-ROC.\")\n",
    "\n",
    "    # Return all_labels as int type, and all_probs_for_auc for plotting\n",
    "    return all_labels, all_probs_for_auc, cm\n",
    "\n",
    "\n",
    "def plot_confusion_matrix(cm, labels=None):\n",
    "    plt.figure(figsize=(6, 5))\n",
    "    sns.heatmap(cm, annot=True, fmt='d', cmap=\"Blues\", xticklabels=labels, yticklabels=labels)\n",
    "    plt.xlabel(\"Predicted\")\n",
    "    plt.ylabel(\"True\")\n",
    "    plt.title(\"Confusion Matrix\")\n",
    "    plt.show()\n",
    "\n",
    "\n",
    "def plot_roc_curve(y_true, y_probs, num_classes, class_labels=None):\n",
    "    # Ensure y_true is 1D and integer for roc_curve regardless of multi-class or binary\n",
    "    y_true = np.array(y_true).flatten().astype(int)\n",
    "\n",
    "    if num_classes == 2:\n",
    "        # y_probs should be 1D for binary\n",
    "        if y_probs.ndim > 1 and y_probs.shape[1] == 2:\n",
    "            # If it's (N, 2), take the positive class probability\n",
    "            y_probs = y_probs[:, 1]\n",
    "        elif y_probs.ndim > 1 and y_probs.shape[1] == 1:\n",
    "            y_probs = y_probs.flatten() # if it's (N, 1)\n",
    "\n",
    "        fpr, tpr, _ = roc_curve(y_true, y_probs)\n",
    "        roc_auc = auc(fpr, tpr)\n",
    "\n",
    "        plt.figure(figsize=(6, 5))\n",
    "        plt.plot(fpr, tpr, label=f\"AUC = {roc_auc:.4f}\")\n",
    "        plt.plot([0, 1], [0, 1], linestyle='--', color='gray')\n",
    "        plt.xlabel(\"False Positive Rate\")\n",
    "        plt.ylabel(\"True Positive Rate\")\n",
    "        plt.title(\"ROC Curve\")\n",
    "        plt.legend(loc=\"lower right\")\n",
    "        plt.grid(True)\n",
    "        plt.show()\n",
    "    elif num_classes > 2:\n",
    "        print(\"\\nPlotting One-vs-Rest ROC Curves for multi-class.\")\n",
    "        plt.figure(figsize=(8, 7))\n",
    "        \n",
    "        lb = LabelBinarizer()\n",
    "        y_true_bin = lb.fit_transform(y_true) # y_true is already 1D int\n",
    "        \n",
    "        # y_probs must be 2D (n_samples, n_classes) for multi-class OVR plotting\n",
    "        if y_probs.ndim != 2 or y_probs.shape[1] != num_classes:\n",
    "             print(f\"Warning: y_probs shape {y_probs.shape} is not (n_samples, {num_classes}) for multi-class One-vs-Rest ROC plotting. Skipping.\")\n",
    "             return\n",
    "\n",
    "        for i in range(num_classes):\n",
    "            # Check if the class exists in y_true_bin (i.e., if there are samples for this class)\n",
    "            if y_true_bin[:, i].sum() == 0 and y_probs[:, i].sum() == 0:\n",
    "                continue\n",
    "\n",
    "            try:\n",
    "                fpr, tpr, _ = roc_curve(y_true_bin[:, i], y_probs[:, i])\n",
    "                class_roc_auc = auc(fpr, tpr)\n",
    "            except ValueError as e:\n",
    "                print(f\"Could not plot ROC for class {i} ({class_labels[i] if class_labels else ''}): {e}\")\n",
    "                continue\n",
    "\n",
    "            label_name = class_labels[i] if class_labels and i < len(class_labels) else f\"Class {i}\"\n",
    "            plt.plot(fpr, tpr, label=f'{label_name} (AUC = {class_roc_auc:.2f})')\n",
    "\n",
    "        plt.plot([0, 1], [0, 1], 'k--', lw=2)\n",
    "        plt.xlim([0.0, 1.0])\n",
    "        plt.ylim([0.0, 1.05])\n",
    "        plt.xlabel('False Positive Rate')\n",
    "        plt.ylabel('True Positive Rate')\n",
    "        plt.title('One-vs-Rest ROC Curve')\n",
    "        plt.legend(loc=\"lower right\")\n",
    "        plt.grid(True)\n",
    "        plt.show()\n",
    "    else:\n",
    "        print(f\"ROC Curve plotting is typically for binary or multi-class (One-vs-Rest). Your model has {num_classes} class(es).\")\n",
    "\n",
    "\n",
    "def train_model(model, train_loader, test_loader, device, model_name=\"Model\", epochs=5):\n",
    "    model.to(device)\n",
    "    criterion = nn.CrossEntropyLoss()\n",
    "    optimizer = torch.optim.Adam(model.parameters(), lr=0.001)\n",
    "    train_losses, test_accuracies = [], []\n",
    "\n",
    "    for epoch in range(epochs):\n",
    "        model.train()\n",
    "        epoch_loss = 0.0\n",
    "\n",
    "        for inputs, labels in train_loader:\n",
    "            inputs, labels = inputs.to(device), labels.to(device)\n",
    "\n",
    "            optimizer.zero_grad()\n",
    "            outputs = model(inputs)\n",
    "\n",
    "            if labels.dim() == 2 and labels.size(1) == 1:\n",
    "                labels = labels.squeeze(1)\n",
    "\n",
    "            loss = criterion(outputs, labels)\n",
    "            loss.backward()\n",
    "            \n",
    "            optimizer.step()\n",
    "\n",
    "            epoch_loss += loss.item()\n",
    "\n",
    "        train_losses.append(epoch_loss / len(train_loader))\n",
    "\n",
    "        model.eval()\n",
    "        correct = 0\n",
    "        total = 0\n",
    "        with torch.no_grad():\n",
    "            for inputs, labels in test_loader:\n",
    "                inputs, labels = inputs.to(device), labels.to(device)\n",
    "\n",
    "                if labels.dim() == 2 and labels.size(1) == 1:\n",
    "                    labels = labels.squeeze(1)\n",
    "\n",
    "                outputs = model(inputs)\n",
    "                _, predicted = torch.max(outputs.data, 1)\n",
    "\n",
    "                correct += (predicted == labels).sum().item()\n",
    "                total += labels.size(0)\n",
    "        \n",
    "        accuracy = correct / total\n",
    "        test_accuracies.append(accuracy)\n",
    "        print(f\"{model_name} - Epoch {epoch+1}/{epochs}, Loss: {train_losses[-1]:.4f}, Accuracy: {accuracy:.4f}\")\n",
    "\n",
    "    print(\"\\n--- Model Evaluation ---\")\n",
    "    \n",
    "    num_classes = 0\n",
    "    if hasattr(model, 'output'):\n",
    "        num_classes = model.output.out_features\n",
    "    elif hasattr(model, 'fc2'):\n",
    "        num_classes = model.fc2.out_features\n",
    "    elif hasattr(model, 'fc') and isinstance(model.fc, nn.Linear):\n",
    "        num_classes = model.fc.out_features\n",
    "    else:\n",
    "        print(\"Warning: Could not determine num_classes from known output layer names. Defaulting to 2.\")\n",
    "        num_classes = 2\n",
    "\n",
    "    class_labels = None\n",
    "    if 'y_test' in globals() and y_test is not None:\n",
    "        unique_labels = sorted(np.unique(y_test))\n",
    "        class_labels = [str(int(label)) for label in unique_labels]\n",
    "        if num_classes != len(unique_labels):\n",
    "            print(f\"Warning: Model's output_dim ({num_classes}) does not match number of unique labels in y_test ({len(unique_labels)}). Adjusting for plotting consistency.\")\n",
    "            # It's better to use model's actual num_classes for probability handling,\n",
    "            # but for labels, use the actual number from data. Let's make sure `num_classes` used\n",
    "            # for `plot_roc_curve` refers to the model's output features.\n",
    "            # No, keep num_classes derived from model, and `class_labels` from `y_test`.\n",
    "            pass # No change to num_classes derived from model here\n",
    "    else:\n",
    "        print(\"Warning: y_test not found or is None. Cannot determine class labels for plotting.\")\n",
    "        class_labels = [str(i) for i in range(num_classes)]\n",
    "\n",
    "    try:\n",
    "        actual_labels, predicted_probs, confusion_matrix_result = evaluate_model(model, test_loader, device)\n",
    "        \n",
    "        plot_confusion_matrix(confusion_matrix_result, labels=class_labels)\n",
    "\n",
    "        plot_roc_curve(actual_labels, predicted_probs, num_classes=num_classes, class_labels=class_labels)\n",
    "\n",
    "    except Exception as e:\n",
    "        print(f\"An error occurred during evaluation or plotting: {e}\")\n",
    "\n",
    "    return model, train_losses, test_accuracies"
   ]
  },
  {
   "cell_type": "code",
   "execution_count": 6,
   "id": "20775d35",
   "metadata": {},
   "outputs": [
    {
     "name": "stdout",
     "output_type": "stream",
     "text": [
      "Max token in input: 9999\n",
      "Vocab size: 29500\n"
     ]
    }
   ],
   "source": [
    "print(f\"Max token in input: {X_train_tensor.max().item()}\")\n",
    "print(f\"Vocab size: {vocab_size}\")"
   ]
  },
  {
   "cell_type": "code",
   "execution_count": 7,
   "id": "fcacb0cf",
   "metadata": {},
   "outputs": [
    {
     "name": "stdout",
     "output_type": "stream",
     "text": [
      "tensor([0., 1.])\n",
      "tensor([0., 1.])\n"
     ]
    }
   ],
   "source": [
    "print(torch.unique(y_train_tensor))\n",
    "print(torch.unique(y_test_tensor))"
   ]
  },
  {
   "cell_type": "code",
   "execution_count": 35,
   "id": "e2b8a6df",
   "metadata": {},
   "outputs": [],
   "source": [
    "device = torch.device(\"cuda\" if torch.cuda.is_available() else \"cpu\")"
   ]
  },
  {
   "cell_type": "code",
   "execution_count": 23,
   "id": "cd57edf9",
   "metadata": {},
   "outputs": [
    {
     "name": "stdout",
     "output_type": "stream",
     "text": [
      "TextCNN - Epoch 1/5, Loss: 0.0482, Accuracy: 0.9886\n",
      "TextCNN - Epoch 2/5, Loss: 0.0234, Accuracy: 0.9915\n",
      "TextCNN - Epoch 3/5, Loss: 0.0141, Accuracy: 0.9917\n",
      "TextCNN - Epoch 4/5, Loss: 0.0097, Accuracy: 0.9912\n",
      "TextCNN - Epoch 5/5, Loss: 0.0069, Accuracy: 0.9910\n",
      "\n",
      "--- Model Evaluation ---\n",
      "Evaluation - Accuracy:  0.9910\n",
      "Evaluation - Precision: 0.9910\n",
      "Evaluation - Recall:    0.9910\n",
      "Evaluation - F1 Score:  0.9910\n",
      "Evaluation - AUC-ROC:   0.9992\n"
     ]
    },
    {
     "data": {
      "image/png": "[encoded data removed]",
      "text/plain": [
       "<Figure size 600x500 with 2 Axes>"
      ]
     },
     "metadata": {},
     "output_type": "display_data"
    },
    {
     "data": {
      "image/png": "[encoded data removed]",
      "text/plain": [
       "<Figure size 600x500 with 1 Axes>"
      ]
     },
     "metadata": {},
     "output_type": "display_data"
    }
   ],
   "source": [
    "num_classes_CNN = len(np.unique(y))\n",
    "# CNN\n",
    "cnn_model = CNNModel(\n",
    "    vocab_size=10000, \n",
    "    embed_dim=128,    \n",
    "    num_classes=num_classes_CNN\n",
    ").to(device)\n",
    "trained_cnn, cnn_losses, cnn_accs = train_model(\n",
    "    cnn_model,\n",
    "    train_loader,\n",
    "    test_loader,\n",
    "    device,\n",
    "    model_name=\"TextCNN\", \n",
    "    epochs=5 \n",
    ")"
   ]
  },
  {
   "cell_type": "code",
   "execution_count": null,
   "id": "287f7052",
   "metadata": {},
   "outputs": [],
   "source": [
    "torch.save(trained_cnn, \"cnn_modelSENTENCE.pkl\")"
   ]
  },
  {
   "cell_type": "code",
   "execution_count": 38,
   "id": "86f6b7a7",
   "metadata": {},
   "outputs": [
    {
     "name": "stdout",
     "output_type": "stream",
     "text": [
      "BI-LSTM - Epoch 1/5, Loss: 0.0445, Accuracy: 0.9911\n",
      "BI-LSTM - Epoch 2/5, Loss: 0.0209, Accuracy: 0.9919\n",
      "BI-LSTM - Epoch 3/5, Loss: 0.0134, Accuracy: 0.9925\n",
      "BI-LSTM - Epoch 4/5, Loss: 0.0083, Accuracy: 0.9925\n",
      "BI-LSTM - Epoch 5/5, Loss: 0.0051, Accuracy: 0.9924\n",
      "\n",
      "--- Model Evaluation ---\n",
      "Evaluation - Accuracy:  0.9924\n",
      "Evaluation - Precision: 0.9925\n",
      "Evaluation - Recall:    0.9924\n",
      "Evaluation - F1 Score:  0.9924\n",
      "Evaluation - AUC-ROC:   0.9996\n"
     ]
    },
    {
     "data": {
      "image/png": "[encoded data removed]",
      "text/plain": [
       "<Figure size 600x500 with 2 Axes>"
      ]
     },
     "metadata": {},
     "output_type": "display_data"
    },
    {
     "data": {
      "image/png": "[encoded data removed]",
      "text/plain": [
       "<Figure size 600x500 with 1 Axes>"
      ]
     },
     "metadata": {},
     "output_type": "display_data"
    }
   ],
   "source": [
    "# Bi-LSTM\n",
    "num_classes_BiLSTM = len(np.unique(y))\n",
    "Bilstm_model = BiLSTMModel(\n",
    "    vocab_size=10000,\n",
    "    embed_dim=128,\n",
    "    hidden_dim=64, \n",
    "    output_dim=num_classes_BiLSTM\n",
    ").to(device)\n",
    "trained_bilstm, losses, accs = train_model(Bilstm_model, train_loader, test_loader, device, model_name=\"BI-LSTM\", epochs=5)\n"
   ]
  },
  {
   "cell_type": "code",
   "execution_count": null,
   "id": "446ac5e4",
   "metadata": {},
   "outputs": [],
   "source": [
    "torch.save(trained_bilstm, \"bilstm_modelSENTENCE.pkl\")"
   ]
  },
  {
   "cell_type": "code",
   "execution_count": 25,
   "id": "1cffacd4",
   "metadata": {},
   "outputs": [
    {
     "name": "stdout",
     "output_type": "stream",
     "text": [
      "GRU - Epoch 1/5, Loss: 0.4136, Accuracy: 0.9888\n",
      "GRU - Epoch 2/5, Loss: 0.0262, Accuracy: 0.9917\n",
      "GRU - Epoch 3/5, Loss: 0.0150, Accuracy: 0.9914\n",
      "GRU - Epoch 4/5, Loss: 0.0093, Accuracy: 0.9923\n",
      "GRU - Epoch 5/5, Loss: 0.0066, Accuracy: 0.9921\n",
      "\n",
      "--- Model Evaluation ---\n",
      "Evaluation - Accuracy:  0.9921\n",
      "Evaluation - Precision: 0.9921\n",
      "Evaluation - Recall:    0.9921\n",
      "Evaluation - F1 Score:  0.9921\n",
      "Evaluation - AUC-ROC:   0.9996\n"
     ]
    },
    {
     "data": {
      "image/png": "[encoded data removed]",
      "text/plain": [
       "<Figure size 600x500 with 2 Axes>"
      ]
     },
     "metadata": {},
     "output_type": "display_data"
    },
    {
     "data": {
      "image/png": "[encoded data removed]",
      "text/plain": [
       "<Figure size 600x500 with 1 Axes>"
      ]
     },
     "metadata": {},
     "output_type": "display_data"
    }
   ],
   "source": [
    "# GRU\n",
    "num_classes_GRU = len(np.unique(y))\n",
    "gru_model = GRUModel(\n",
    "    vocab_size=10000, \n",
    "    embed_dim=128, \n",
    "    gru_hidden_dim=128, \n",
    "    num_classes=num_classes_GRU\n",
    ").to(device)\n",
    "trained_gru, losses, accs = train_model(gru_model, train_loader, test_loader, device, model_name=\"GRU\", epochs=5)"
   ]
  },
  {
   "cell_type": "code",
   "execution_count": null,
   "id": "cd172cd1",
   "metadata": {},
   "outputs": [],
   "source": [
    "torch.save(trained_gru, \"gru_modelSENTENCE.pkl\")"
   ]
  },
  {
   "cell_type": "code",
   "execution_count": 26,
   "id": "6930ff92",
   "metadata": {},
   "outputs": [
    {
     "name": "stdout",
     "output_type": "stream",
     "text": [
      "DNN - Epoch 1/5, Loss: 0.1503, Accuracy: 0.9844\n",
      "DNN - Epoch 2/5, Loss: 0.0640, Accuracy: 0.9877\n",
      "DNN - Epoch 3/5, Loss: 0.0470, Accuracy: 0.9885\n",
      "DNN - Epoch 4/5, Loss: 0.0378, Accuracy: 0.9907\n",
      "DNN - Epoch 5/5, Loss: 0.0328, Accuracy: 0.9903\n",
      "\n",
      "--- Model Evaluation ---\n",
      "Evaluation - Accuracy:  0.9903\n",
      "Evaluation - Precision: 0.9903\n",
      "Evaluation - Recall:    0.9903\n",
      "Evaluation - F1 Score:  0.9903\n",
      "Evaluation - AUC-ROC:   0.9995\n"
     ]
    },
    {
     "data": {
      "image/png": "[encoded data removed]",
      "text/plain": [
       "<Figure size 600x500 with 2 Axes>"
      ]
     },
     "metadata": {},
     "output_type": "display_data"
    },
    {
     "data": {
      "image/png": "[encoded data removed]",
      "text/plain": [
       "<Figure size 600x500 with 1 Axes>"
      ]
     },
     "metadata": {},
     "output_type": "display_data"
    }
   ],
   "source": [
    "# DNN\n",
    "num_classes_DNN = len(np.unique(y))\n",
    "dnn_model = DNNModel(vocab_size=10000, \n",
    "    embed_dim=128,   \n",
    "    num_classes=num_classes_DNN)\n",
    "trained_dnn, losses, accs = train_model(dnn_model, train_loader, test_loader, device, model_name=\"DNN\", epochs=5) "
   ]
  },
  {
   "cell_type": "code",
   "execution_count": null,
   "id": "d6381a36",
   "metadata": {},
   "outputs": [],
   "source": [
    "torch.save(trained_dnn, \"dnn_modelSENTENCE.pkl\")"
   ]
  },
  {
   "cell_type": "code",
   "execution_count": 2,
   "id": "23675220",
   "metadata": {},
   "outputs": [
    {
     "data": {
      "text/html": [
       "<div>\n",
       "<style scoped>\n",
       "    .dataframe tbody tr th:only-of-type {\n",
       "        vertical-align: middle;\n",
       "    }\n",
       "\n",
       "    .dataframe tbody tr th {\n",
       "        vertical-align: top;\n",
       "    }\n",
       "\n",
       "    .dataframe thead th {\n",
       "        text-align: right;\n",
       "    }\n",
       "</style>\n",
       "<table border=\"1\" class=\"dataframe\">\n",
       "  <thead>\n",
       "    <tr style=\"text-align: right;\">\n",
       "      <th></th>\n",
       "      <th>text</th>\n",
       "      <th>source</th>\n",
       "      <th>tokenized_text</th>\n",
       "      <th>lemmatized_text</th>\n",
       "    </tr>\n",
       "  </thead>\n",
       "  <tbody>\n",
       "    <tr>\n",
       "      <th>0</th>\n",
       "      <td>when modi promised minimum government maximum ...</td>\n",
       "      <td>0</td>\n",
       "      <td>[modi, promised, minimum, government, maximum,...</td>\n",
       "      <td>[modi, promised, minimum, government, maximum,...</td>\n",
       "    </tr>\n",
       "    <tr>\n",
       "      <th>1</th>\n",
       "      <td>talk all the nonsense and continue all the dra...</td>\n",
       "      <td>0</td>\n",
       "      <td>[talk, nonsense, continue, drama, vote, modi]</td>\n",
       "      <td>[talk, nonsense, continue, drama, vote, modi]</td>\n",
       "    </tr>\n",
       "    <tr>\n",
       "      <th>2</th>\n",
       "      <td>what did just say vote for modi welcome bjp to...</td>\n",
       "      <td>0</td>\n",
       "      <td>[say, vote, modi, welcome, bjp, told, rahul, m...</td>\n",
       "      <td>[say, vote, modi, welcome, bjp, told, rahul, m...</td>\n",
       "    </tr>\n",
       "    <tr>\n",
       "      <th>3</th>\n",
       "      <td>asking his supporters prefix chowkidar their n...</td>\n",
       "      <td>0</td>\n",
       "      <td>[asking, supporters, prefix, chowkidar, names,...</td>\n",
       "      <td>[asking, supporter, prefix, chowkidar, name, m...</td>\n",
       "    </tr>\n",
       "    <tr>\n",
       "      <th>4</th>\n",
       "      <td>answer who among these the most powerful world...</td>\n",
       "      <td>0</td>\n",
       "      <td>[answer, among, powerful, world, leader, today...</td>\n",
       "      <td>[answer, among, powerful, world, leader, today...</td>\n",
       "    </tr>\n",
       "  </tbody>\n",
       "</table>\n",
       "</div>"
      ],
      "text/plain": [
       "                                                text  source  \\\n",
       "0  when modi promised minimum government maximum ...       0   \n",
       "1  talk all the nonsense and continue all the dra...       0   \n",
       "2  what did just say vote for modi welcome bjp to...       0   \n",
       "3  asking his supporters prefix chowkidar their n...       0   \n",
       "4  answer who among these the most powerful world...       0   \n",
       "\n",
       "                                      tokenized_text  \\\n",
       "0  [modi, promised, minimum, government, maximum,...   \n",
       "1      [talk, nonsense, continue, drama, vote, modi]   \n",
       "2  [say, vote, modi, welcome, bjp, told, rahul, m...   \n",
       "3  [asking, supporters, prefix, chowkidar, names,...   \n",
       "4  [answer, among, powerful, world, leader, today...   \n",
       "\n",
       "                                     lemmatized_text  \n",
       "0  [modi, promised, minimum, government, maximum,...  \n",
       "1      [talk, nonsense, continue, drama, vote, modi]  \n",
       "2  [say, vote, modi, welcome, bjp, told, rahul, m...  \n",
       "3  [asking, supporter, prefix, chowkidar, name, m...  \n",
       "4  [answer, among, powerful, world, leader, today...  "
      ]
     },
     "execution_count": 2,
     "metadata": {},
     "output_type": "execute_result"
    }
   ],
   "source": [
    "df.head()"
   ]
  },
  {
   "cell_type": "code",
   "execution_count": 1,
   "id": "9dc89eb6",
   "metadata": {},
   "outputs": [],
   "source": [
    "import pandas as pd\n",
    "df = pd.read_pickle('pickles\\sentence.pkl')\n",
    "# read the preprocessed data file."
   ]
  },
  {
   "cell_type": "code",
   "execution_count": 2,
   "id": "9dc956d1",
   "metadata": {},
   "outputs": [
    {
     "name": "stderr",
     "output_type": "stream",
     "text": [
      "c:\\Users\\ammar\\anaconda3\\envs\\tfenv\\lib\\site-packages\\tqdm\\auto.py:21: TqdmWarning: IProgress not found. Please update jupyter and ipywidgets. See https://ipywidgets.readthedocs.io/en/stable/user_install.html\n",
      "  from .autonotebook import tqdm as notebook_tqdm\n"
     ]
    }
   ],
   "source": [
    "from transformers import (\n",
    "    RobertaTokenizer,\n",
    "    ElectraTokenizer\n",
    ")\n",
    "\n",
    "from TransformersTraining import build_roberta, build_electra, split_dataframe, train_Transformers\n",
    "train_df, val_df, test_df = split_dataframe(df)"
   ]
  },
  {
   "cell_type": "code",
   "execution_count": 3,
   "id": "ad545396",
   "metadata": {},
   "outputs": [
    {
     "name": "stderr",
     "output_type": "stream",
     "text": [
      "c:\\Users\\ammar\\anaconda3\\envs\\tfenv\\lib\\site-packages\\huggingface_hub\\file_download.py:943: FutureWarning: `resume_download` is deprecated and will be removed in version 1.0.0. Downloads always resume when possible. If you want to force a new download, use `force_download=True`.\n",
      "  warnings.warn(\n",
      "c:\\Users\\ammar\\anaconda3\\envs\\tfenv\\lib\\site-packages\\transformers\\optimization.py:521: FutureWarning: This implementation of AdamW is deprecated and will be removed in a future version. Use the PyTorch implementation torch.optim.AdamW instead, or set `no_deprecation_warning=True` to disable this warning\n",
      "  warnings.warn(\n",
      "Epoch 1:   1%|          | 200/17469 [01:12<5:08:46,  1.07s/it, loss=0.341]  "
     ]
    },
    {
     "name": "stdout",
     "output_type": "stream",
     "text": [
      "\n",
      "Saved checkpoint at iter 200: checkpoints_roberta\\ckpt_iter200.pt\n"
     ]
    },
    {
     "name": "stderr",
     "output_type": "stream",
     "text": [
      "Epoch 1:   2%|▏         | 400/17469 [02:42<31:20:58,  6.61s/it, loss=0.00165]"
     ]
    },
    {
     "name": "stdout",
     "output_type": "stream",
     "text": [
      "\n",
      "Saved checkpoint at iter 400: checkpoints_roberta\\ckpt_iter400.pt\n"
     ]
    },
    {
     "name": "stderr",
     "output_type": "stream",
     "text": [
      "Epoch 1:   3%|▎         | 600/17469 [04:18<38:26:18,  8.20s/it, loss=0.00233]"
     ]
    },
    {
     "name": "stdout",
     "output_type": "stream",
     "text": [
      "\n",
      "Saved checkpoint at iter 600: checkpoints_roberta\\ckpt_iter600.pt\n"
     ]
    },
    {
     "name": "stderr",
     "output_type": "stream",
     "text": [
      "Epoch 1:   5%|▍         | 800/17469 [05:45<26:25:03,  5.71s/it, loss=0.00153] "
     ]
    },
    {
     "name": "stdout",
     "output_type": "stream",
     "text": [
      "\n",
      "Saved checkpoint at iter 800: checkpoints_roberta\\ckpt_iter800.pt\n"
     ]
    },
    {
     "name": "stderr",
     "output_type": "stream",
     "text": [
      "Epoch 1:   6%|▌         | 999/17469 [06:54<1:34:58,  2.89it/s, loss=0.0288]   "
     ]
    },
    {
     "name": "stdout",
     "output_type": "stream",
     "text": [
      "\n",
      "Saved checkpoint at iter 1000: checkpoints_roberta\\ckpt_iter1000.pt\n"
     ]
    },
    {
     "name": "stderr",
     "output_type": "stream",
     "text": [
      "Epoch 1:   6%|▌         | 1000/17469 [08:24<124:41:40, 27.26s/it, loss=0.0288, avg_train_loss=0.0649, val_loss=0.0251]"
     ]
    },
    {
     "name": "stdout",
     "output_type": "stream",
     "text": [
      "\n",
      "Saved improved checkpoint: checkpoints_roberta\\best_iter1000_val_0.0251.pt\n"
     ]
    },
    {
     "name": "stderr",
     "output_type": "stream",
     "text": [
      "Epoch 1:   7%|▋         | 1200/17469 [09:59<37:27:59,  8.29s/it, loss=0.0123]                                         "
     ]
    },
    {
     "name": "stdout",
     "output_type": "stream",
     "text": [
      "\n",
      "Saved checkpoint at iter 1200: checkpoints_roberta\\ckpt_iter1200.pt\n"
     ]
    },
    {
     "name": "stderr",
     "output_type": "stream",
     "text": [
      "Epoch 1:   8%|▊         | 1400/17469 [11:53<58:53:24, 13.19s/it, loss=0.000277]"
     ]
    },
    {
     "name": "stdout",
     "output_type": "stream",
     "text": [
      "\n",
      "Saved checkpoint at iter 1400: checkpoints_roberta\\ckpt_iter1400.pt\n"
     ]
    },
    {
     "name": "stderr",
     "output_type": "stream",
     "text": [
      "Epoch 1:   9%|▉         | 1600/17469 [13:39<50:35:01, 11.48s/it, loss=0.0048]  "
     ]
    },
    {
     "name": "stdout",
     "output_type": "stream",
     "text": [
      "\n",
      "Saved checkpoint at iter 1600: checkpoints_roberta\\ckpt_iter1600.pt\n"
     ]
    },
    {
     "name": "stderr",
     "output_type": "stream",
     "text": [
      "Epoch 1:  10%|█         | 1800/17469 [15:07<25:31:01,  5.86s/it, loss=0.00267] "
     ]
    },
    {
     "name": "stdout",
     "output_type": "stream",
     "text": [
      "\n",
      "Saved checkpoint at iter 1800: checkpoints_roberta\\ckpt_iter1800.pt\n"
     ]
    },
    {
     "name": "stderr",
     "output_type": "stream",
     "text": [
      "Epoch 1:  11%|█▏        | 1999/17469 [16:16<1:29:51,  2.87it/s, loss=0.000899]"
     ]
    },
    {
     "name": "stdout",
     "output_type": "stream",
     "text": [
      "\n",
      "Saved checkpoint at iter 2000: checkpoints_roberta\\ckpt_iter2000.pt\n"
     ]
    },
    {
     "name": "stderr",
     "output_type": "stream",
     "text": [
      "Epoch 1:  13%|█▎        | 2200/17469 [18:48<33:15:29,  7.84s/it, loss=0.00163]                                         "
     ]
    },
    {
     "name": "stdout",
     "output_type": "stream",
     "text": [
      "\n",
      "Saved checkpoint at iter 2200: checkpoints_roberta\\ckpt_iter2200.pt\n"
     ]
    },
    {
     "name": "stderr",
     "output_type": "stream",
     "text": [
      "Epoch 1:  14%|█▎        | 2400/17469 [20:22<32:48:26,  7.84s/it, loss=0.000248]"
     ]
    },
    {
     "name": "stdout",
     "output_type": "stream",
     "text": [
      "\n",
      "Saved checkpoint at iter 2400: checkpoints_roberta\\ckpt_iter2400.pt\n"
     ]
    },
    {
     "name": "stderr",
     "output_type": "stream",
     "text": [
      "Epoch 1:  15%|█▍        | 2600/17469 [21:36<7:37:51,  1.85s/it, loss=0.000129] "
     ]
    },
    {
     "name": "stdout",
     "output_type": "stream",
     "text": [
      "\n",
      "Saved checkpoint at iter 2600: checkpoints_roberta\\ckpt_iter2600.pt\n"
     ]
    },
    {
     "name": "stderr",
     "output_type": "stream",
     "text": [
      "Epoch 1:  16%|█▌        | 2800/17469 [23:02<21:23:04,  5.25s/it, loss=0.00469]"
     ]
    },
    {
     "name": "stdout",
     "output_type": "stream",
     "text": [
      "\n",
      "Saved checkpoint at iter 2800: checkpoints_roberta\\ckpt_iter2800.pt\n"
     ]
    },
    {
     "name": "stderr",
     "output_type": "stream",
     "text": [
      "Epoch 1:  17%|█▋        | 2999/17469 [24:12<1:24:15,  2.86it/s, loss=0.000818] "
     ]
    },
    {
     "name": "stdout",
     "output_type": "stream",
     "text": [
      "\n",
      "Saved checkpoint at iter 3000: checkpoints_roberta\\ckpt_iter3000.pt\n"
     ]
    },
    {
     "name": "stderr",
     "output_type": "stream",
     "text": [
      "Epoch 1:  17%|█▋        | 3000/17469 [25:45<113:05:54, 28.14s/it, loss=0.000818, avg_train_loss=0.0173, val_loss=0.000677]"
     ]
    },
    {
     "name": "stdout",
     "output_type": "stream",
     "text": [
      "\n",
      "Saved improved checkpoint: checkpoints_roberta\\best_iter3000_val_0.0007.pt\n"
     ]
    },
    {
     "name": "stderr",
     "output_type": "stream",
     "text": [
      "Epoch 1:  17%|█▋        | 3000/17469 [25:45<2:04:15,  1.94it/s, loss=0.000463]                                            \n"
     ]
    },
    {
     "name": "stdout",
     "output_type": "stream",
     "text": [
      "\n",
      "Stopping training by user request...\n",
      "Saved loss curve at stop: checkpoints_roberta\\loss_curve_stopped_iter3001.png\n"
     ]
    },
    {
     "ename": "RuntimeError",
     "evalue": "[enforce fail at inline_container.cc:424] . unexpected pos 1219456128 vs 1219456016",
     "output_type": "error",
     "traceback": [
      "\u001b[1;31m---------------------------------------------------------------------------\u001b[0m",
      "\u001b[1;31mRuntimeError\u001b[0m                              Traceback (most recent call last)",
      "File \u001b[1;32mc:\\Users\\ammar\\anaconda3\\envs\\tfenv\\lib\\site-packages\\torch\\serialization.py:619\u001b[0m, in \u001b[0;36msave\u001b[1;34m(obj, f, pickle_module, pickle_protocol, _use_new_zipfile_serialization, _disable_byteorder_record)\u001b[0m\n\u001b[0;32m    618\u001b[0m \u001b[38;5;28;01mwith\u001b[39;00m _open_zipfile_writer(f) \u001b[38;5;28;01mas\u001b[39;00m opened_zipfile:\n\u001b[1;32m--> 619\u001b[0m     \u001b[43m_save\u001b[49m\u001b[43m(\u001b[49m\u001b[43mobj\u001b[49m\u001b[43m,\u001b[49m\u001b[43m \u001b[49m\u001b[43mopened_zipfile\u001b[49m\u001b[43m,\u001b[49m\u001b[43m \u001b[49m\u001b[43mpickle_module\u001b[49m\u001b[43m,\u001b[49m\u001b[43m \u001b[49m\u001b[43mpickle_protocol\u001b[49m\u001b[43m,\u001b[49m\u001b[43m \u001b[49m\u001b[43m_disable_byteorder_record\u001b[49m\u001b[43m)\u001b[49m\n\u001b[0;32m    620\u001b[0m     \u001b[38;5;28;01mreturn\u001b[39;00m\n",
      "File \u001b[1;32mc:\\Users\\ammar\\anaconda3\\envs\\tfenv\\lib\\site-packages\\torch\\serialization.py:853\u001b[0m, in \u001b[0;36m_save\u001b[1;34m(obj, zip_file, pickle_module, pickle_protocol, _disable_byteorder_record)\u001b[0m\n\u001b[0;32m    852\u001b[0m num_bytes \u001b[38;5;241m=\u001b[39m storage\u001b[38;5;241m.\u001b[39mnbytes()\n\u001b[1;32m--> 853\u001b[0m \u001b[43mzip_file\u001b[49m\u001b[38;5;241;43m.\u001b[39;49m\u001b[43mwrite_record\u001b[49m\u001b[43m(\u001b[49m\u001b[43mname\u001b[49m\u001b[43m,\u001b[49m\u001b[43m \u001b[49m\u001b[43mstorage\u001b[49m\u001b[38;5;241;43m.\u001b[39;49m\u001b[43mdata_ptr\u001b[49m\u001b[43m(\u001b[49m\u001b[43m)\u001b[49m\u001b[43m,\u001b[49m\u001b[43m \u001b[49m\u001b[43mnum_bytes\u001b[49m\u001b[43m)\u001b[49m\n",
      "\u001b[1;31mRuntimeError\u001b[0m: [enforce fail at inline_container.cc:593] . PytorchStreamWriter failed writing file data/492: file write failed",
      "\nDuring handling of the above exception, another exception occurred:\n",
      "\u001b[1;31mRuntimeError\u001b[0m                              Traceback (most recent call last)",
      "Cell \u001b[1;32mIn[3], line 3\u001b[0m\n\u001b[0;32m      1\u001b[0m roberta \u001b[38;5;241m=\u001b[39m build_roberta()\n\u001b[0;32m      2\u001b[0m tokenizer \u001b[38;5;241m=\u001b[39m RobertaTokenizer\u001b[38;5;241m.\u001b[39mfrom_pretrained(\u001b[38;5;124m'\u001b[39m\u001b[38;5;124mroberta-base\u001b[39m\u001b[38;5;124m'\u001b[39m)\n\u001b[1;32m----> 3\u001b[0m \u001b[43mtrain_Transformers\u001b[49m\u001b[43m(\u001b[49m\u001b[43mroberta\u001b[49m\u001b[43m,\u001b[49m\u001b[43m \u001b[49m\u001b[43mtokenizer\u001b[49m\u001b[43m,\u001b[49m\u001b[43m \u001b[49m\u001b[43mtrain_df\u001b[49m\u001b[43m,\u001b[49m\u001b[43m \u001b[49m\u001b[43mval_df\u001b[49m\u001b[43m,\u001b[49m\n\u001b[0;32m      4\u001b[0m \u001b[43m      \u001b[49m\u001b[43mlr\u001b[49m\u001b[38;5;241;43m=\u001b[39;49m\u001b[38;5;241;43m2e-5\u001b[39;49m\u001b[43m,\u001b[49m\u001b[43m \u001b[49m\u001b[43mweight_decay\u001b[49m\u001b[38;5;241;43m=\u001b[39;49m\u001b[38;5;241;43m0.01\u001b[39;49m\u001b[43m,\u001b[49m\u001b[43m \u001b[49m\u001b[43mepochs\u001b[49m\u001b[38;5;241;43m=\u001b[39;49m\u001b[38;5;241;43m3\u001b[39;49m\u001b[43m,\u001b[49m\u001b[43m \u001b[49m\u001b[43mloss_check\u001b[49m\u001b[38;5;241;43m=\u001b[39;49m\u001b[38;5;241;43m1000\u001b[39;49m\u001b[43m)\u001b[49m\n",
      "File \u001b[1;32mc:\\Users\\ammar\\OneDrive\\Desktop\\MIU\\Projects\\Foundation Of Data\\TransformersTraining.py:291\u001b[0m, in \u001b[0;36mtrain_Transformers\u001b[1;34m(model, tokenizer, train_df, val_df, lr, weight_decay, epochs, loss_check, checkpoint_dir)\u001b[0m\n\u001b[0;32m    288\u001b[0m \u001b[38;5;28mprint\u001b[39m(\u001b[38;5;124mf\u001b[39m\u001b[38;5;124m\"\u001b[39m\u001b[38;5;124mSaved loss curve at stop: \u001b[39m\u001b[38;5;132;01m{\u001b[39;00mos\u001b[38;5;241m.\u001b[39mpath\u001b[38;5;241m.\u001b[39mjoin(ckpt_dir,\u001b[38;5;250m \u001b[39m\u001b[38;5;124mf\u001b[39m\u001b[38;5;124m'\u001b[39m\u001b[38;5;124mloss_curve_stopped_iter\u001b[39m\u001b[38;5;132;01m{\u001b[39;00mglobal_iter\u001b[38;5;132;01m}\u001b[39;00m\u001b[38;5;124m.png\u001b[39m\u001b[38;5;124m'\u001b[39m)\u001b[38;5;132;01m}\u001b[39;00m\u001b[38;5;124m\"\u001b[39m)\n\u001b[0;32m    290\u001b[0m path \u001b[38;5;241m=\u001b[39m os\u001b[38;5;241m.\u001b[39mpath\u001b[38;5;241m.\u001b[39mjoin(ckpt_dir, \u001b[38;5;124mf\u001b[39m\u001b[38;5;124m'\u001b[39m\u001b[38;5;124mlast_iter\u001b[39m\u001b[38;5;132;01m{\u001b[39;00mglobal_iter\u001b[38;5;132;01m}\u001b[39;00m\u001b[38;5;124m.pt\u001b[39m\u001b[38;5;124m'\u001b[39m)\n\u001b[1;32m--> 291\u001b[0m \u001b[43mtorch\u001b[49m\u001b[38;5;241;43m.\u001b[39;49m\u001b[43msave\u001b[49m\u001b[43m(\u001b[49m\u001b[43m{\u001b[49m\n\u001b[0;32m    292\u001b[0m \u001b[43m    \u001b[49m\u001b[38;5;124;43m'\u001b[39;49m\u001b[38;5;124;43mepoch\u001b[39;49m\u001b[38;5;124;43m'\u001b[39;49m\u001b[43m:\u001b[49m\u001b[43m \u001b[49m\u001b[43mepoch\u001b[49m\u001b[43m,\u001b[49m\n\u001b[0;32m    293\u001b[0m \u001b[43m    \u001b[49m\u001b[38;5;124;43m'\u001b[39;49m\u001b[38;5;124;43miter\u001b[39;49m\u001b[38;5;124;43m'\u001b[39;49m\u001b[43m:\u001b[49m\u001b[43m \u001b[49m\u001b[43mglobal_iter\u001b[49m\u001b[43m,\u001b[49m\n\u001b[0;32m    294\u001b[0m \u001b[43m    \u001b[49m\u001b[38;5;124;43m'\u001b[39;49m\u001b[38;5;124;43mmodel\u001b[39;49m\u001b[38;5;124;43m'\u001b[39;49m\u001b[43m:\u001b[49m\u001b[43m \u001b[49m\u001b[43mmodel\u001b[49m\u001b[38;5;241;43m.\u001b[39;49m\u001b[43mstate_dict\u001b[49m\u001b[43m(\u001b[49m\u001b[43m)\u001b[49m\u001b[43m,\u001b[49m\n\u001b[0;32m    295\u001b[0m \u001b[43m    \u001b[49m\u001b[38;5;124;43m'\u001b[39;49m\u001b[38;5;124;43mclf\u001b[39;49m\u001b[38;5;124;43m'\u001b[39;49m\u001b[43m:\u001b[49m\u001b[43m \u001b[49m\u001b[43mclassifier\u001b[49m\u001b[38;5;241;43m.\u001b[39;49m\u001b[43mstate_dict\u001b[49m\u001b[43m(\u001b[49m\u001b[43m)\u001b[49m\u001b[43m,\u001b[49m\n\u001b[0;32m    296\u001b[0m \u001b[43m    \u001b[49m\u001b[38;5;124;43m'\u001b[39;49m\u001b[38;5;124;43mopt\u001b[39;49m\u001b[38;5;124;43m'\u001b[39;49m\u001b[43m:\u001b[49m\u001b[43m \u001b[49m\u001b[43moptimizer\u001b[49m\u001b[38;5;241;43m.\u001b[39;49m\u001b[43mstate_dict\u001b[49m\u001b[43m(\u001b[49m\u001b[43m)\u001b[49m\u001b[43m,\u001b[49m\n\u001b[0;32m    297\u001b[0m \u001b[43m    \u001b[49m\u001b[38;5;124;43m'\u001b[39;49m\u001b[38;5;124;43mbest_val_loss\u001b[39;49m\u001b[38;5;124;43m'\u001b[39;49m\u001b[43m:\u001b[49m\u001b[43m \u001b[49m\u001b[43mbest_val_loss\u001b[49m\n\u001b[0;32m    298\u001b[0m \u001b[43m\u001b[49m\u001b[43m}\u001b[49m\u001b[43m,\u001b[49m\u001b[43m \u001b[49m\u001b[43mpath\u001b[49m\u001b[43m)\u001b[49m\n\u001b[0;32m    299\u001b[0m \u001b[38;5;28mprint\u001b[39m(\u001b[38;5;124mf\u001b[39m\u001b[38;5;124m\"\u001b[39m\u001b[38;5;124mStopped by user. Saved last checkpoint: \u001b[39m\u001b[38;5;132;01m{\u001b[39;00mpath\u001b[38;5;132;01m}\u001b[39;00m\u001b[38;5;124m\"\u001b[39m)\n\u001b[0;32m    300\u001b[0m \u001b[38;5;28;01mbreak\u001b[39;00m \u001b[38;5;66;03m# Exit the outer epoch loop\u001b[39;00m\n",
      "File \u001b[1;32mc:\\Users\\ammar\\anaconda3\\envs\\tfenv\\lib\\site-packages\\torch\\serialization.py:620\u001b[0m, in \u001b[0;36msave\u001b[1;34m(obj, f, pickle_module, pickle_protocol, _use_new_zipfile_serialization, _disable_byteorder_record)\u001b[0m\n\u001b[0;32m    618\u001b[0m     \u001b[38;5;28;01mwith\u001b[39;00m _open_zipfile_writer(f) \u001b[38;5;28;01mas\u001b[39;00m opened_zipfile:\n\u001b[0;32m    619\u001b[0m         _save(obj, opened_zipfile, pickle_module, pickle_protocol, _disable_byteorder_record)\n\u001b[1;32m--> 620\u001b[0m         \u001b[38;5;28;01mreturn\u001b[39;00m\n\u001b[0;32m    621\u001b[0m \u001b[38;5;28;01melse\u001b[39;00m:\n\u001b[0;32m    622\u001b[0m     \u001b[38;5;28;01mwith\u001b[39;00m _open_file_like(f, \u001b[38;5;124m'\u001b[39m\u001b[38;5;124mwb\u001b[39m\u001b[38;5;124m'\u001b[39m) \u001b[38;5;28;01mas\u001b[39;00m opened_file:\n",
      "File \u001b[1;32mc:\\Users\\ammar\\anaconda3\\envs\\tfenv\\lib\\site-packages\\torch\\serialization.py:466\u001b[0m, in \u001b[0;36m_open_zipfile_writer_file.__exit__\u001b[1;34m(self, *args)\u001b[0m\n\u001b[0;32m    465\u001b[0m \u001b[38;5;28;01mdef\u001b[39;00m\u001b[38;5;250m \u001b[39m\u001b[38;5;21m__exit__\u001b[39m(\u001b[38;5;28mself\u001b[39m, \u001b[38;5;241m*\u001b[39margs) \u001b[38;5;241m-\u001b[39m\u001b[38;5;241m>\u001b[39m \u001b[38;5;28;01mNone\u001b[39;00m:\n\u001b[1;32m--> 466\u001b[0m     \u001b[38;5;28;43mself\u001b[39;49m\u001b[38;5;241;43m.\u001b[39;49m\u001b[43mfile_like\u001b[49m\u001b[38;5;241;43m.\u001b[39;49m\u001b[43mwrite_end_of_file\u001b[49m\u001b[43m(\u001b[49m\u001b[43m)\u001b[49m\n\u001b[0;32m    467\u001b[0m     \u001b[38;5;28;01mif\u001b[39;00m \u001b[38;5;28mself\u001b[39m\u001b[38;5;241m.\u001b[39mfile_stream \u001b[38;5;129;01mis\u001b[39;00m \u001b[38;5;129;01mnot\u001b[39;00m \u001b[38;5;28;01mNone\u001b[39;00m:\n\u001b[0;32m    468\u001b[0m         \u001b[38;5;28mself\u001b[39m\u001b[38;5;241m.\u001b[39mfile_stream\u001b[38;5;241m.\u001b[39mclose()\n",
      "\u001b[1;31mRuntimeError\u001b[0m: [enforce fail at inline_container.cc:424] . unexpected pos 1219456128 vs 1219456016"
     ]
    }
   ],
   "source": [
    "roberta = build_roberta()\n",
    "tokenizer = RobertaTokenizer.from_pretrained('roberta-base')\n",
    "train_Transformers(roberta, tokenizer, train_df, val_df,\n",
    "      lr=2e-5, weight_decay=0.01, epochs=3, loss_check=1000)"
   ]
  },
  {
   "cell_type": "code",
   "execution_count": 3,
   "id": "715f60c8",
   "metadata": {},
   "outputs": [
    {
     "name": "stderr",
     "output_type": "stream",
     "text": [
      "c:\\Users\\ammar\\anaconda3\\envs\\tfenv\\lib\\site-packages\\huggingface_hub\\file_download.py:943: FutureWarning: `resume_download` is deprecated and will be removed in version 1.0.0. Downloads always resume when possible. If you want to force a new download, use `force_download=True`.\n",
      "  warnings.warn(\n",
      "c:\\Users\\ammar\\anaconda3\\envs\\tfenv\\lib\\site-packages\\transformers\\optimization.py:521: FutureWarning: This implementation of AdamW is deprecated and will be removed in a future version. Use the PyTorch implementation torch.optim.AdamW instead, or set `no_deprecation_warning=True` to disable this warning\n",
      "  warnings.warn(\n",
      "Epoch 1:   1%|          | 200/17469 [01:18<6:39:17,  1.39s/it, loss=0.0331] "
     ]
    },
    {
     "name": "stdout",
     "output_type": "stream",
     "text": [
      "\n",
      "Saved checkpoint at iter 200: checkpoints_electra\\ckpt_iter200.pt\n"
     ]
    },
    {
     "name": "stderr",
     "output_type": "stream",
     "text": [
      "Epoch 1:   2%|▏         | 400/17469 [02:38<9:48:33,  2.07s/it, loss=0.00381] "
     ]
    },
    {
     "name": "stdout",
     "output_type": "stream",
     "text": [
      "\n",
      "Saved checkpoint at iter 400: checkpoints_electra\\ckpt_iter400.pt\n"
     ]
    },
    {
     "name": "stderr",
     "output_type": "stream",
     "text": [
      "Epoch 1:   3%|▎         | 600/17469 [03:55<4:31:19,  1.04it/s, loss=0.322]   "
     ]
    },
    {
     "name": "stdout",
     "output_type": "stream",
     "text": [
      "\n",
      "Saved checkpoint at iter 600: checkpoints_electra\\ckpt_iter600.pt\n"
     ]
    },
    {
     "name": "stderr",
     "output_type": "stream",
     "text": [
      "Epoch 1:   5%|▍         | 800/17469 [05:17<9:53:39,  2.14s/it, loss=0.0745]  "
     ]
    },
    {
     "name": "stdout",
     "output_type": "stream",
     "text": [
      "\n",
      "Saved checkpoint at iter 800: checkpoints_electra\\ckpt_iter800.pt\n"
     ]
    },
    {
     "name": "stderr",
     "output_type": "stream",
     "text": [
      "Epoch 1:   6%|▌         | 999/17469 [06:32<1:43:11,  2.66it/s, loss=0.00161] "
     ]
    },
    {
     "name": "stdout",
     "output_type": "stream",
     "text": [
      "\n",
      "Saved checkpoint at iter 1000: checkpoints_electra\\ckpt_iter1000.pt\n"
     ]
    },
    {
     "name": "stderr",
     "output_type": "stream",
     "text": [
      "Epoch 1:   6%|▌         | 1000/17469 [07:35<88:25:36, 19.33s/it, loss=0.00161, avg_train_loss=0.0658, val_loss=0.00259]"
     ]
    },
    {
     "name": "stdout",
     "output_type": "stream",
     "text": [
      "\n",
      "Saved improved checkpoint: checkpoints_electra\\best_iter1000_val_0.0026.pt\n"
     ]
    },
    {
     "name": "stderr",
     "output_type": "stream",
     "text": [
      "Epoch 1:   7%|▋         | 1166/17469 [08:38<2:00:43,  2.25it/s, loss=0.00443]                                          \n"
     ]
    },
    {
     "name": "stdout",
     "output_type": "stream",
     "text": [
      "\n",
      "Stopping training by user request...\n",
      "Saved loss curve at stop: checkpoints_electra\\loss_curve_stopped_iter1167.png\n",
      "Stopped by user. Saved last checkpoint: checkpoints_electra\\last_iter1167.pt\n"
     ]
    },
    {
     "data": {
      "image/png": "[encoded data removed]",
      "text/plain": [
       "<Figure size 640x480 with 1 Axes>"
      ]
     },
     "metadata": {},
     "output_type": "display_data"
    },
    {
     "ename": "KeyboardInterrupt",
     "evalue": "",
     "output_type": "error",
     "traceback": [
      "\u001b[1;31m---------------------------------------------------------------------------\u001b[0m",
      "\u001b[1;31mKeyboardInterrupt\u001b[0m                         Traceback (most recent call last)",
      "Cell \u001b[1;32mIn[3], line 3\u001b[0m\n\u001b[0;32m      1\u001b[0m electra \u001b[38;5;241m=\u001b[39m build_electra()\n\u001b[0;32m      2\u001b[0m tokenizer \u001b[38;5;241m=\u001b[39m ElectraTokenizer\u001b[38;5;241m.\u001b[39mfrom_pretrained(\u001b[38;5;124m'\u001b[39m\u001b[38;5;124mgoogle/electra-base-discriminator\u001b[39m\u001b[38;5;124m'\u001b[39m)\n\u001b[1;32m----> 3\u001b[0m \u001b[43mtrain_Transformers\u001b[49m\u001b[43m(\u001b[49m\u001b[43melectra\u001b[49m\u001b[43m,\u001b[49m\u001b[43m \u001b[49m\u001b[43mtokenizer\u001b[49m\u001b[43m,\u001b[49m\u001b[43m \u001b[49m\u001b[43mtrain_df\u001b[49m\u001b[43m,\u001b[49m\u001b[43m \u001b[49m\u001b[43mval_df\u001b[49m\u001b[43m,\u001b[49m\n\u001b[0;32m      4\u001b[0m \u001b[43m      \u001b[49m\u001b[43mlr\u001b[49m\u001b[38;5;241;43m=\u001b[39;49m\u001b[38;5;241;43m2e-5\u001b[39;49m\u001b[43m,\u001b[49m\u001b[43m \u001b[49m\u001b[43mweight_decay\u001b[49m\u001b[38;5;241;43m=\u001b[39;49m\u001b[38;5;241;43m0.01\u001b[39;49m\u001b[43m,\u001b[49m\u001b[43m \u001b[49m\u001b[43mepochs\u001b[49m\u001b[38;5;241;43m=\u001b[39;49m\u001b[38;5;241;43m3\u001b[39;49m\u001b[43m,\u001b[49m\u001b[43m \u001b[49m\u001b[43mloss_check\u001b[49m\u001b[38;5;241;43m=\u001b[39;49m\u001b[38;5;241;43m1000\u001b[39;49m\u001b[43m)\u001b[49m\n",
      "File \u001b[1;32mc:\\Users\\ammar\\OneDrive\\Desktop\\MIU\\Projects\\Foundation Of Data\\TransformersTraining.py:351\u001b[0m, in \u001b[0;36mtrain_Transformers\u001b[1;34m(model, tokenizer, train_df, val_df, lr, weight_decay, epochs, loss_check, checkpoint_dir)\u001b[0m\n\u001b[0;32m    349\u001b[0m classifier\u001b[38;5;241m.\u001b[39meval() \u001b[38;5;66;03m# Ensure classifier is also in eval mode\u001b[39;00m\n\u001b[0;32m    350\u001b[0m \u001b[38;5;28;01mwith\u001b[39;00m torch\u001b[38;5;241m.\u001b[39mno_grad():\n\u001b[1;32m--> 351\u001b[0m     \u001b[38;5;28;01mfor\u001b[39;00m batch \u001b[38;5;129;01min\u001b[39;00m val_dl:\n\u001b[0;32m    352\u001b[0m         ids \u001b[38;5;241m=\u001b[39m batch[\u001b[38;5;124m'\u001b[39m\u001b[38;5;124minput_ids\u001b[39m\u001b[38;5;124m'\u001b[39m]\u001b[38;5;241m.\u001b[39mto(device)\n\u001b[0;32m    353\u001b[0m         mask \u001b[38;5;241m=\u001b[39m batch[\u001b[38;5;124m'\u001b[39m\u001b[38;5;124mattention_mask\u001b[39m\u001b[38;5;124m'\u001b[39m]\u001b[38;5;241m.\u001b[39mto(device)\n",
      "File \u001b[1;32mc:\\Users\\ammar\\anaconda3\\envs\\tfenv\\lib\\site-packages\\torch\\utils\\data\\dataloader.py:630\u001b[0m, in \u001b[0;36m_BaseDataLoaderIter.__next__\u001b[1;34m(self)\u001b[0m\n\u001b[0;32m    627\u001b[0m \u001b[38;5;28;01mif\u001b[39;00m \u001b[38;5;28mself\u001b[39m\u001b[38;5;241m.\u001b[39m_sampler_iter \u001b[38;5;129;01mis\u001b[39;00m \u001b[38;5;28;01mNone\u001b[39;00m:\n\u001b[0;32m    628\u001b[0m     \u001b[38;5;66;03m# TODO(https://github.com/pytorch/pytorch/issues/76750)\u001b[39;00m\n\u001b[0;32m    629\u001b[0m     \u001b[38;5;28mself\u001b[39m\u001b[38;5;241m.\u001b[39m_reset()  \u001b[38;5;66;03m# type: ignore[call-arg]\u001b[39;00m\n\u001b[1;32m--> 630\u001b[0m data \u001b[38;5;241m=\u001b[39m \u001b[38;5;28;43mself\u001b[39;49m\u001b[38;5;241;43m.\u001b[39;49m\u001b[43m_next_data\u001b[49m\u001b[43m(\u001b[49m\u001b[43m)\u001b[49m\n\u001b[0;32m    631\u001b[0m \u001b[38;5;28mself\u001b[39m\u001b[38;5;241m.\u001b[39m_num_yielded \u001b[38;5;241m+\u001b[39m\u001b[38;5;241m=\u001b[39m \u001b[38;5;241m1\u001b[39m\n\u001b[0;32m    632\u001b[0m \u001b[38;5;28;01mif\u001b[39;00m \u001b[38;5;28mself\u001b[39m\u001b[38;5;241m.\u001b[39m_dataset_kind \u001b[38;5;241m==\u001b[39m _DatasetKind\u001b[38;5;241m.\u001b[39mIterable \u001b[38;5;129;01mand\u001b[39;00m \\\n\u001b[0;32m    633\u001b[0m         \u001b[38;5;28mself\u001b[39m\u001b[38;5;241m.\u001b[39m_IterableDataset_len_called \u001b[38;5;129;01mis\u001b[39;00m \u001b[38;5;129;01mnot\u001b[39;00m \u001b[38;5;28;01mNone\u001b[39;00m \u001b[38;5;129;01mand\u001b[39;00m \\\n\u001b[0;32m    634\u001b[0m         \u001b[38;5;28mself\u001b[39m\u001b[38;5;241m.\u001b[39m_num_yielded \u001b[38;5;241m>\u001b[39m \u001b[38;5;28mself\u001b[39m\u001b[38;5;241m.\u001b[39m_IterableDataset_len_called:\n",
      "File \u001b[1;32mc:\\Users\\ammar\\anaconda3\\envs\\tfenv\\lib\\site-packages\\torch\\utils\\data\\dataloader.py:674\u001b[0m, in \u001b[0;36m_SingleProcessDataLoaderIter._next_data\u001b[1;34m(self)\u001b[0m\n\u001b[0;32m    672\u001b[0m \u001b[38;5;28;01mdef\u001b[39;00m\u001b[38;5;250m \u001b[39m\u001b[38;5;21m_next_data\u001b[39m(\u001b[38;5;28mself\u001b[39m):\n\u001b[0;32m    673\u001b[0m     index \u001b[38;5;241m=\u001b[39m \u001b[38;5;28mself\u001b[39m\u001b[38;5;241m.\u001b[39m_next_index()  \u001b[38;5;66;03m# may raise StopIteration\u001b[39;00m\n\u001b[1;32m--> 674\u001b[0m     data \u001b[38;5;241m=\u001b[39m \u001b[38;5;28;43mself\u001b[39;49m\u001b[38;5;241;43m.\u001b[39;49m\u001b[43m_dataset_fetcher\u001b[49m\u001b[38;5;241;43m.\u001b[39;49m\u001b[43mfetch\u001b[49m\u001b[43m(\u001b[49m\u001b[43mindex\u001b[49m\u001b[43m)\u001b[49m  \u001b[38;5;66;03m# may raise StopIteration\u001b[39;00m\n\u001b[0;32m    675\u001b[0m     \u001b[38;5;28;01mif\u001b[39;00m \u001b[38;5;28mself\u001b[39m\u001b[38;5;241m.\u001b[39m_pin_memory:\n\u001b[0;32m    676\u001b[0m         data \u001b[38;5;241m=\u001b[39m _utils\u001b[38;5;241m.\u001b[39mpin_memory\u001b[38;5;241m.\u001b[39mpin_memory(data, \u001b[38;5;28mself\u001b[39m\u001b[38;5;241m.\u001b[39m_pin_memory_device)\n",
      "File \u001b[1;32mc:\\Users\\ammar\\anaconda3\\envs\\tfenv\\lib\\site-packages\\torch\\utils\\data\\_utils\\fetch.py:51\u001b[0m, in \u001b[0;36m_MapDatasetFetcher.fetch\u001b[1;34m(self, possibly_batched_index)\u001b[0m\n\u001b[0;32m     49\u001b[0m         data \u001b[38;5;241m=\u001b[39m \u001b[38;5;28mself\u001b[39m\u001b[38;5;241m.\u001b[39mdataset\u001b[38;5;241m.\u001b[39m__getitems__(possibly_batched_index)\n\u001b[0;32m     50\u001b[0m     \u001b[38;5;28;01melse\u001b[39;00m:\n\u001b[1;32m---> 51\u001b[0m         data \u001b[38;5;241m=\u001b[39m [\u001b[38;5;28mself\u001b[39m\u001b[38;5;241m.\u001b[39mdataset[idx] \u001b[38;5;28;01mfor\u001b[39;00m idx \u001b[38;5;129;01min\u001b[39;00m possibly_batched_index]\n\u001b[0;32m     52\u001b[0m \u001b[38;5;28;01melse\u001b[39;00m:\n\u001b[0;32m     53\u001b[0m     data \u001b[38;5;241m=\u001b[39m \u001b[38;5;28mself\u001b[39m\u001b[38;5;241m.\u001b[39mdataset[possibly_batched_index]\n",
      "File \u001b[1;32mc:\\Users\\ammar\\anaconda3\\envs\\tfenv\\lib\\site-packages\\torch\\utils\\data\\_utils\\fetch.py:51\u001b[0m, in \u001b[0;36m<listcomp>\u001b[1;34m(.0)\u001b[0m\n\u001b[0;32m     49\u001b[0m         data \u001b[38;5;241m=\u001b[39m \u001b[38;5;28mself\u001b[39m\u001b[38;5;241m.\u001b[39mdataset\u001b[38;5;241m.\u001b[39m__getitems__(possibly_batched_index)\n\u001b[0;32m     50\u001b[0m     \u001b[38;5;28;01melse\u001b[39;00m:\n\u001b[1;32m---> 51\u001b[0m         data \u001b[38;5;241m=\u001b[39m [\u001b[38;5;28;43mself\u001b[39;49m\u001b[38;5;241;43m.\u001b[39;49m\u001b[43mdataset\u001b[49m\u001b[43m[\u001b[49m\u001b[43midx\u001b[49m\u001b[43m]\u001b[49m \u001b[38;5;28;01mfor\u001b[39;00m idx \u001b[38;5;129;01min\u001b[39;00m possibly_batched_index]\n\u001b[0;32m     52\u001b[0m \u001b[38;5;28;01melse\u001b[39;00m:\n\u001b[0;32m     53\u001b[0m     data \u001b[38;5;241m=\u001b[39m \u001b[38;5;28mself\u001b[39m\u001b[38;5;241m.\u001b[39mdataset[possibly_batched_index]\n",
      "File \u001b[1;32mc:\\Users\\ammar\\OneDrive\\Desktop\\MIU\\Projects\\Foundation Of Data\\TransformersTraining.py:63\u001b[0m, in \u001b[0;36mTextDataset.__getitem__\u001b[1;34m(self, idx)\u001b[0m\n\u001b[0;32m     54\u001b[0m \u001b[38;5;28;01mdef\u001b[39;00m\u001b[38;5;250m \u001b[39m\u001b[38;5;21m__getitem__\u001b[39m(\u001b[38;5;28mself\u001b[39m, idx):\n\u001b[0;32m     55\u001b[0m     enc \u001b[38;5;241m=\u001b[39m \u001b[38;5;28mself\u001b[39m\u001b[38;5;241m.\u001b[39mtokenizer(\n\u001b[0;32m     56\u001b[0m         \u001b[38;5;28mself\u001b[39m\u001b[38;5;241m.\u001b[39mtexts[idx],\n\u001b[0;32m     57\u001b[0m         truncation\u001b[38;5;241m=\u001b[39m\u001b[38;5;28;01mTrue\u001b[39;00m,\n\u001b[1;32m   (...)\u001b[0m\n\u001b[0;32m     60\u001b[0m         return_tensors\u001b[38;5;241m=\u001b[39m\u001b[38;5;124m'\u001b[39m\u001b[38;5;124mpt\u001b[39m\u001b[38;5;124m'\u001b[39m\n\u001b[0;32m     61\u001b[0m     )\n\u001b[0;32m     62\u001b[0m     \u001b[38;5;28;01mreturn\u001b[39;00m {\n\u001b[1;32m---> 63\u001b[0m         \u001b[38;5;124m'\u001b[39m\u001b[38;5;124minput_ids\u001b[39m\u001b[38;5;124m'\u001b[39m: \u001b[43menc\u001b[49m\u001b[43m[\u001b[49m\u001b[38;5;124;43m'\u001b[39;49m\u001b[38;5;124;43minput_ids\u001b[39;49m\u001b[38;5;124;43m'\u001b[39;49m\u001b[43m]\u001b[49m\u001b[38;5;241;43m.\u001b[39;49m\u001b[43msqueeze\u001b[49m\u001b[43m(\u001b[49m\u001b[38;5;241;43m0\u001b[39;49m\u001b[43m)\u001b[49m,\n\u001b[0;32m     64\u001b[0m         \u001b[38;5;124m'\u001b[39m\u001b[38;5;124mattention_mask\u001b[39m\u001b[38;5;124m'\u001b[39m: enc[\u001b[38;5;124m'\u001b[39m\u001b[38;5;124mattention_mask\u001b[39m\u001b[38;5;124m'\u001b[39m]\u001b[38;5;241m.\u001b[39msqueeze(\u001b[38;5;241m0\u001b[39m),\n\u001b[0;32m     65\u001b[0m         \u001b[38;5;124m'\u001b[39m\u001b[38;5;124mlabel\u001b[39m\u001b[38;5;124m'\u001b[39m: torch\u001b[38;5;241m.\u001b[39mtensor(\u001b[38;5;28mself\u001b[39m\u001b[38;5;241m.\u001b[39mlabels[idx], dtype\u001b[38;5;241m=\u001b[39mtorch\u001b[38;5;241m.\u001b[39mfloat)\u001b[38;5;241m.\u001b[39munsqueeze(\u001b[38;5;241m0\u001b[39m)\n\u001b[0;32m     66\u001b[0m     }\n",
      "\u001b[1;31mKeyboardInterrupt\u001b[0m: "
     ]
    }
   ],
   "source": [
    "electra = build_electra()\n",
    "tokenizer = ElectraTokenizer.from_pretrained('google/electra-base-discriminator')\n",
    "train_Transformers(electra, tokenizer, train_df, val_df,\n",
    "      lr=2e-5, weight_decay=0.01, epochs=3, loss_check=1000)"
   ]
  },
  {
   "cell_type": "code",
   "execution_count": null,
   "id": "b9e044b4",
   "metadata": {},
   "outputs": [
    {
     "name": "stdout",
     "output_type": "stream",
     "text": [
      "Pipeline saved to: G:\\College\\semester 6\\Foundation of Data Science\\Project\\sentences_passive_aggressive_pipeline.pkl\n"
     ]
    }
   ],
   "source": [
    "file_path = r\"G:\\College\\semester 6\\Foundation of Data Science\\Project\" \n",
    "\n",
    "pipeline_filename = 'sentences_passive_aggressive_pipeline.pkl'\n",
    "\n",
    "full_output_path = os.path.join(file_path, pipeline_filename)\n",
    "\n",
    "joblib.dump(pa_pipeline, full_output_path)\n",
    "\n",
    "print(f\"Pipeline saved to: {full_output_path}\")"
   ]
  }
 ],
 "metadata": {
  "kernelspec": {
   "display_name": "tfenv",
   "language": "python",
   "name": "python3"
  },
  "language_info": {
   "codemirror_mode": {
    "name": "ipython",
    "version": 3
   },
   "file_extension": ".py",
   "mimetype": "text/x-python",
   "name": "python",
   "nbconvert_exporter": "python",
   "pygments_lexer": "ipython3",
   "version": "3.9.18"
  }
 },
 "nbformat": 4,
 "nbformat_minor": 5
}
